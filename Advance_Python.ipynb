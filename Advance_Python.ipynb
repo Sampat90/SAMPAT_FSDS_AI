{
 "cells": [
  {
   "cell_type": "markdown",
   "id": "12a2596a-9823-480f-84a3-51024508f58e",
   "metadata": {},
   "source": [
    "# ADVANCED PYTHON"
   ]
  },
  {
   "cell_type": "code",
   "execution_count": 1,
   "id": "7e433bd9-1e5d-4981-bf0a-6dbcf1fb0deb",
   "metadata": {},
   "outputs": [
    {
     "name": "stdout",
     "output_type": "stream",
     "text": [
      "Data Science\n"
     ]
    }
   ],
   "source": [
    "if True:\n",
    "    print('Data Science')\n"
   ]
  },
  {
   "cell_type": "code",
   "execution_count": 8,
   "id": "ddb4d00a-3f36-4291-b4ee-68d60b9378c2",
   "metadata": {},
   "outputs": [
    {
     "name": "stdout",
     "output_type": "stream",
     "text": [
      "bye bye\n"
     ]
    }
   ],
   "source": [
    "if False:\n",
    "    print('python')\n",
    "print('bye bye')"
   ]
  },
  {
   "cell_type": "code",
   "execution_count": 9,
   "id": "956dd7ed-aa76-4eb7-a1c6-5c474397180d",
   "metadata": {},
   "outputs": [
    {
     "name": "stdout",
     "output_type": "stream",
     "text": [
      "python\n",
      "bye bye\n"
     ]
    }
   ],
   "source": [
    "if True:\n",
    "    print('python')\n",
    "print('bye bye')"
   ]
  },
  {
   "cell_type": "code",
   "execution_count": 10,
   "id": "2adda95e-3b5a-46b5-a3b0-ca9759040ad0",
   "metadata": {},
   "outputs": [
    {
     "name": "stdout",
     "output_type": "stream",
     "text": [
      "Data Science\n"
     ]
    }
   ],
   "source": [
    "if True:\n",
    "    print('Data Science')\n",
    "else:\n",
    "    print('Bye Bye Now')"
   ]
  },
  {
   "cell_type": "code",
   "execution_count": 2,
   "id": "5f7592e9-98d7-429f-bcb0-22883026753a",
   "metadata": {},
   "outputs": [
    {
     "name": "stdout",
     "output_type": "stream",
     "text": [
      "Data Science\n",
      "need to spend everyday 3-4hr\n"
     ]
    }
   ],
   "source": [
    "if True: # indentiation is always 4 spaces\n",
    "    print('Data Science') \n",
    "    print('need to spend everyday 3-4hr')"
   ]
  },
  {
   "cell_type": "code",
   "execution_count": 10,
   "id": "7717d37c-456b-47d3-9493-eb9a16716c3e",
   "metadata": {},
   "outputs": [
    {
     "name": "stdout",
     "output_type": "stream",
     "text": [
      "good bye\n"
     ]
    }
   ],
   "source": [
    "if False: # indentiation is always 4 spaces\n",
    "    print('Data Science') \n",
    "    \n",
    "print('good bye')"
   ]
  },
  {
   "cell_type": "code",
   "execution_count": 4,
   "id": "989254ac-91a3-4165-9128-ee6a8987c8bd",
   "metadata": {},
   "outputs": [
    {
     "name": "stdout",
     "output_type": "stream",
     "text": [
      "Data Science\n",
      "good bye\n"
     ]
    }
   ],
   "source": [
    "if True: # indentiation is always 4 spaces\n",
    "    print('Data Science') \n",
    "  \n",
    "print('good bye')"
   ]
  },
  {
   "cell_type": "code",
   "execution_count": 5,
   "id": "bbfd295f-19b9-41c0-8a0c-4fc917e30705",
   "metadata": {},
   "outputs": [
    {
     "name": "stdout",
     "output_type": "stream",
     "text": [
      "Data Science\n"
     ]
    }
   ],
   "source": [
    "if True: # indentiation is always 4 spaces\n",
    "    print('Data Science')\n",
    "else:\n",
    "    print('good bye')"
   ]
  },
  {
   "cell_type": "code",
   "execution_count": 11,
   "id": "7be4ea2c-7a0c-429e-9f80-27d0bf00e8e9",
   "metadata": {},
   "outputs": [
    {
     "name": "stdout",
     "output_type": "stream",
     "text": [
      "good bye\n"
     ]
    }
   ],
   "source": [
    "if False: # indentiation is always 4 spaces\n",
    "    print('Data Science')\n",
    "else:\n",
    "    print('good bye')"
   ]
  },
  {
   "cell_type": "markdown",
   "id": "25307b45-c157-45a3-a5d4-4fc0fe95a9c9",
   "metadata": {},
   "source": [
    "# EVEN NUMBERS"
   ]
  },
  {
   "cell_type": "code",
   "execution_count": 14,
   "id": "185a9ca8-6261-4ae6-b0b4-19cb0cfbecc2",
   "metadata": {},
   "outputs": [
    {
     "name": "stdout",
     "output_type": "stream",
     "text": [
      "Odd number\n"
     ]
    }
   ],
   "source": [
    "x = 5\n",
    "r = x % 2 \n",
    "\n",
    "if r == 0:\n",
    "    print('Even number')\n",
    "else:\n",
    "    print('Odd number')"
   ]
  },
  {
   "cell_type": "code",
   "execution_count": 15,
   "id": "86db81e9-88a5-4f97-9293-4e4531e2d6be",
   "metadata": {},
   "outputs": [
    {
     "name": "stdout",
     "output_type": "stream",
     "text": [
      "odd number\n"
     ]
    }
   ],
   "source": [
    "x = 9\n",
    "r = x % 2 \n",
    "\n",
    "if r == 0:\n",
    "    print('Even number')\n",
    "    \n",
    "if r == 1:\n",
    "    print('odd number')"
   ]
  },
  {
   "cell_type": "code",
   "execution_count": 16,
   "id": "8536b22b-37e8-42eb-aadc-ceab2075e15f",
   "metadata": {},
   "outputs": [
    {
     "name": "stdout",
     "output_type": "stream",
     "text": [
      "odd number\n"
     ]
    }
   ],
   "source": [
    "x = 5\n",
    "r = x % 2 \n",
    "\n",
    "if r == 0:\n",
    "    print('Even number')\n",
    "print('odd number')"
   ]
  },
  {
   "cell_type": "code",
   "execution_count": 17,
   "id": "cc9d93d7-a722-4cc2-abdd-4fe9f5866166",
   "metadata": {},
   "outputs": [
    {
     "name": "stdout",
     "output_type": "stream",
     "text": [
      "Even number\n",
      "odd number\n"
     ]
    }
   ],
   "source": [
    "x = 4\n",
    "r = x % 2 \n",
    "\n",
    "if r == 0:\n",
    "    print('Even number')\n",
    "print('odd number')"
   ]
  },
  {
   "cell_type": "code",
   "execution_count": 18,
   "id": "08e3d956-9e78-4bee-a7ef-cd1c6f294db3",
   "metadata": {},
   "outputs": [
    {
     "name": "stdout",
     "output_type": "stream",
     "text": [
      "odd number\n"
     ]
    }
   ],
   "source": [
    "x = 17\n",
    "r = x % 2 \n",
    "\n",
    "if r == 0:\n",
    "    print('Even number')\n",
    "    \n",
    "if r != 0:\n",
    "    print('odd number')"
   ]
  },
  {
   "cell_type": "code",
   "execution_count": 19,
   "id": "d3f3bbee-9319-4053-b574-9bfd3d10d9ee",
   "metadata": {},
   "outputs": [
    {
     "name": "stdout",
     "output_type": "stream",
     "text": [
      "Odd Number\n"
     ]
    }
   ],
   "source": [
    "x = 3\n",
    "r = x % 2\n",
    "\n",
    "if r == 0:\n",
    "    print('Even number')\n",
    "    if x>5:\n",
    "        print('greater number') \n",
    "else:\n",
    "    print('Odd Number')"
   ]
  },
  {
   "cell_type": "code",
   "execution_count": 23,
   "id": "1ac571e2-a50c-4a27-9bdd-679a9ab8d35e",
   "metadata": {},
   "outputs": [
    {
     "name": "stdout",
     "output_type": "stream",
     "text": [
      "Even number\n",
      "6 is greater than 5 \n"
     ]
    }
   ],
   "source": [
    "x = 6\n",
    "r = x % 2\n",
    "\n",
    "if r == 0:\n",
    "    print('Even number')\n",
    "    if x>5:\n",
    "        print(f'{x} is greater than 5 ')\n",
    "  \n",
    "else:\n",
    "    print('Odd Number')"
   ]
  },
  {
   "cell_type": "code",
   "execution_count": 24,
   "id": "a74a3b74-7f91-4ae9-84c7-83b80ce77374",
   "metadata": {},
   "outputs": [
    {
     "name": "stdout",
     "output_type": "stream",
     "text": [
      "Even number\n",
      "not greater\n"
     ]
    }
   ],
   "source": [
    "x = 2\n",
    "r = x % 2\n",
    "\n",
    "if r == 0:\n",
    "    print('Even number')\n",
    "    \n",
    "    if x>5:\n",
    "        print('greater number')\n",
    "    else:\n",
    "        print('not greater')\n",
    "  \n",
    "else:\n",
    "    print('Odd Number')"
   ]
  },
  {
   "cell_type": "code",
   "execution_count": 25,
   "id": "72b23686-31dc-4b59-ae04-82fd5d406cec",
   "metadata": {},
   "outputs": [
    {
     "name": "stdin",
     "output_type": "stream",
     "text": [
      "Enter a year:  2025\n"
     ]
    },
    {
     "name": "stdout",
     "output_type": "stream",
     "text": [
      "Not a Leap Year\n"
     ]
    }
   ],
   "source": [
    "year = int(input(\"Enter a year: \"))\n",
    "\n",
    "if (year % 4 == 0 and year % 100 != 0) or (year % 400 == 0):\n",
    " print(\"Leap Year\")\n",
    "else:\n",
    " print(\"Not a Leap Year\") "
   ]
  },
  {
   "cell_type": "code",
   "execution_count": 26,
   "id": "4e09c74b-c561-4e3f-aedd-65d5b2f35554",
   "metadata": {},
   "outputs": [
    {
     "name": "stdout",
     "output_type": "stream",
     "text": [
      "Even number\n",
      "number is lesser number\n"
     ]
    }
   ],
   "source": [
    "x = 4\n",
    "r = x % 2\n",
    "\n",
    "if r == 0:\n",
    "    print('Even number')\n",
    "    \n",
    "    if x>5:\n",
    "        print('greater number')\n",
    "\n",
    "    \n",
    "    else:\n",
    "        print('number is lesser number')\n",
    "  \n",
    "else:\n",
    "    print('Odd Number')"
   ]
  },
  {
   "cell_type": "code",
   "execution_count": 29,
   "id": "9746ae99-5714-459a-832d-4a33d2dc2201",
   "metadata": {},
   "outputs": [
    {
     "name": "stdout",
     "output_type": "stream",
     "text": [
      "Three\n"
     ]
    }
   ],
   "source": [
    "# elif it wont check till the block once you find the output it wont go to next line\n",
    "# you can try with multiple parameter 1, 2 & 3 value in x \n",
    "\n",
    "x = 3\n",
    "\n",
    "if(x == 1):\n",
    "    print('one')\n",
    "elif(x == 2):\n",
    "    print('Two')\n",
    "elif(x == 3):\n",
    "    print('Three')\n",
    "elif(x == 4):\n",
    "    print('four')"
   ]
  },
  {
   "cell_type": "code",
   "execution_count": 30,
   "id": "59025558-8eb9-44e3-92a6-425aecc5c5c9",
   "metadata": {},
   "outputs": [
    {
     "name": "stdout",
     "output_type": "stream",
     "text": [
      "number not found\n"
     ]
    }
   ],
   "source": [
    "# elif it wont check till the block once you find the output it wont go to next line\n",
    "# you can try with multiple parameter 1, 2 & 3 value in x \n",
    "\n",
    "x = 7\n",
    "\n",
    "if(x == 1):\n",
    "    print('one')\n",
    "    \n",
    "elif(x == 2):\n",
    "    print('Two')\n",
    "elif(x == 3):\n",
    "    print('Three')\n",
    "elif(x == 4):\n",
    "    print('four')\n",
    "\n",
    "else:\n",
    "    print('number not found')"
   ]
  },
  {
   "cell_type": "markdown",
   "id": "d5055203-0a41-49b0-bfb3-48358042cb2b",
   "metadata": {},
   "source": [
    "# Loops"
   ]
  },
  {
   "cell_type": "code",
   "execution_count": 31,
   "id": "761edb7a-1745-4e35-bfd4-ea2facb6aace",
   "metadata": {},
   "outputs": [
    {
     "name": "stdout",
     "output_type": "stream",
     "text": [
      "data science\n",
      "data science\n",
      "data science\n",
      "data science\n",
      "data science\n"
     ]
    }
   ],
   "source": [
    "i = 1         \n",
    "\n",
    "while i<=5:    # condition\n",
    "    print('data science')\n",
    "    i = i + 1  # increment"
   ]
  },
  {
   "cell_type": "code",
   "execution_count": 33,
   "id": "7d7c4548-7a0d-4fe4-a1f7-fd63f996588d",
   "metadata": {},
   "outputs": [
    {
     "name": "stdout",
     "output_type": "stream",
     "text": [
      "data science\n",
      "world\n",
      "world\n",
      "world\n",
      "world\n",
      "\n",
      "data science\n",
      "world\n",
      "world\n",
      "world\n",
      "world\n",
      "\n",
      "data science\n",
      "world\n",
      "world\n",
      "world\n",
      "world\n",
      "\n",
      "data science\n",
      "world\n",
      "world\n",
      "world\n",
      "world\n",
      "\n",
      "data science\n",
      "world\n",
      "world\n",
      "world\n",
      "world\n",
      "\n"
     ]
    }
   ],
   "source": [
    "i = 1\n",
    "\n",
    "while i<=5:\n",
    "    print('data science') # when we mention end then new line will not create\n",
    "    j = 1\n",
    "    while j<=4:\n",
    "        print('world')\n",
    "        j = j + 1\n",
    "        \n",
    "    i = i + 1\n",
    "    print()\n",
    "    \n",
    "    # the output which we got is very lengty but how to make them one line lets refer to below code"
   ]
  },
  {
   "cell_type": "code",
   "execution_count": 34,
   "id": "7e2d4c9e-e040-4c66-bf77-f88b8eac839b",
   "metadata": {},
   "outputs": [
    {
     "name": "stdout",
     "output_type": "stream",
     "text": [
      " datascience world world world world\n",
      " datascience world world world world\n",
      " datascience world world world world\n",
      " datascience world world world world\n",
      " datascience world world world world\n"
     ]
    }
   ],
   "source": [
    "i = 1\n",
    "while i<=5:\n",
    "    print(' datascience', end = \"\") # when we mention end then new line will not create\n",
    "    j = 1\n",
    "    while j<=4:\n",
    "        print(' world', end=\"\")\n",
    "        j = j + 1\n",
    "        \n",
    "    i = i + 1\n",
    "    print()"
   ]
  },
  {
   "cell_type": "code",
   "execution_count": null,
   "id": "7d2dc5bd-ded2-4a51-bc25-2d1002c5d16e",
   "metadata": {},
   "outputs": [],
   "source": []
  },
  {
   "cell_type": "code",
   "execution_count": null,
   "id": "4f9f839b-47a4-4ed2-a78d-aa10f042ef36",
   "metadata": {},
   "outputs": [],
   "source": []
  },
  {
   "cell_type": "code",
   "execution_count": null,
   "id": "30359f09-93e0-421d-8533-01549703e24d",
   "metadata": {},
   "outputs": [],
   "source": []
  },
  {
   "cell_type": "code",
   "execution_count": null,
   "id": "24fc5205-91d8-4a10-bb7d-a62c9ae1a288",
   "metadata": {},
   "outputs": [],
   "source": []
  },
  {
   "cell_type": "code",
   "execution_count": null,
   "id": "6b42f163-9b3f-441d-ad29-21976d641159",
   "metadata": {},
   "outputs": [],
   "source": []
  },
  {
   "cell_type": "code",
   "execution_count": null,
   "id": "14f40f09-0672-4a22-bf51-fdea8686d3b7",
   "metadata": {},
   "outputs": [],
   "source": []
  },
  {
   "cell_type": "code",
   "execution_count": null,
   "id": "72288083-9f84-4733-9fb9-aa301ff58748",
   "metadata": {},
   "outputs": [],
   "source": []
  },
  {
   "cell_type": "code",
   "execution_count": null,
   "id": "1faab7c1-9db8-4afe-b10f-715807badd50",
   "metadata": {},
   "outputs": [],
   "source": []
  },
  {
   "cell_type": "code",
   "execution_count": null,
   "id": "0ea25fe3-b45e-4f45-9b3c-aa9d962492c8",
   "metadata": {},
   "outputs": [],
   "source": []
  },
  {
   "cell_type": "code",
   "execution_count": null,
   "id": "5609a430-e00b-4759-bbf5-9079b073bea1",
   "metadata": {},
   "outputs": [],
   "source": []
  },
  {
   "cell_type": "code",
   "execution_count": null,
   "id": "0e5e7e79-6b7a-401c-96c6-1f1d6edca846",
   "metadata": {},
   "outputs": [],
   "source": []
  },
  {
   "cell_type": "code",
   "execution_count": null,
   "id": "e76c226f-a2f9-4f58-9115-442f86af990f",
   "metadata": {},
   "outputs": [],
   "source": []
  }
 ],
 "metadata": {
  "kernelspec": {
   "display_name": "Python [conda env:base] *",
   "language": "python",
   "name": "conda-base-py"
  },
  "language_info": {
   "codemirror_mode": {
    "name": "ipython",
    "version": 3
   },
   "file_extension": ".py",
   "mimetype": "text/x-python",
   "name": "python",
   "nbconvert_exporter": "python",
   "pygments_lexer": "ipython3",
   "version": "3.13.5"
  }
 },
 "nbformat": 4,
 "nbformat_minor": 5
}
