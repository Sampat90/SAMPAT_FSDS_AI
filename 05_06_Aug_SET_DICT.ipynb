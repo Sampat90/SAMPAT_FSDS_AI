{
 "cells": [
  {
   "cell_type": "code",
   "execution_count": 16,
   "id": "f997aae0-cc90-40b9-8edf-7638dcf57fa9",
   "metadata": {},
   "outputs": [
    {
     "data": {
      "text/plain": [
       "set()"
      ]
     },
     "execution_count": 16,
     "metadata": {},
     "output_type": "execute_result"
    }
   ],
   "source": [
    "s1=set() # set & dict both are define in {} braces\n",
    "s1"
   ]
  },
  {
   "cell_type": "code",
   "execution_count": 15,
   "id": "ca581c5e-f55d-4a4a-a229-15a021cd0434",
   "metadata": {},
   "outputs": [
    {
     "data": {
      "text/plain": [
       "dict"
      ]
     },
     "execution_count": 15,
     "metadata": {},
     "output_type": "execute_result"
    }
   ],
   "source": [
    "s={}\n",
    "type(s) # by default it is dict"
   ]
  },
  {
   "cell_type": "code",
   "execution_count": 17,
   "id": "91089086-a957-46a3-9f6b-ab3fc8ac1559",
   "metadata": {},
   "outputs": [
    {
     "data": {
      "text/plain": [
       "{1, 3, 4, 32, 50, 90}"
      ]
     },
     "execution_count": 17,
     "metadata": {},
     "output_type": "execute_result"
    }
   ],
   "source": [
    "s1={1,3,4,32,50,90}\n",
    "s1"
   ]
  },
  {
   "cell_type": "code",
   "execution_count": 18,
   "id": "e8b3b039-7bde-487d-b967-76a29f1b6b4e",
   "metadata": {},
   "outputs": [
    {
     "data": {
      "text/plain": [
       "set"
      ]
     },
     "execution_count": 18,
     "metadata": {},
     "output_type": "execute_result"
    }
   ],
   "source": [
    "type(s1)"
   ]
  },
  {
   "cell_type": "code",
   "execution_count": 20,
   "id": "2ec43958-801a-4473-af52-123e14bd616b",
   "metadata": {},
   "outputs": [
    {
     "data": {
      "text/plain": [
       "{'a', 'b', 'c', 'd'}"
      ]
     },
     "execution_count": 20,
     "metadata": {},
     "output_type": "execute_result"
    }
   ],
   "source": [
    "s2={'b','a','d','c'}\n",
    "s2"
   ]
  },
  {
   "cell_type": "code",
   "execution_count": 21,
   "id": "3f0964bf-2f2a-466d-aa1d-b4c822e306a3",
   "metadata": {},
   "outputs": [
    {
     "data": {
      "text/plain": [
       "set"
      ]
     },
     "execution_count": 21,
     "metadata": {},
     "output_type": "execute_result"
    }
   ],
   "source": [
    "type(s2)"
   ]
  },
  {
   "cell_type": "code",
   "execution_count": 24,
   "id": "51c088c7-8c2d-4978-9f17-290e63a53a70",
   "metadata": {},
   "outputs": [
    {
     "data": {
      "text/plain": [
       "{(1+2j), 1, 2.3, 'True', 'sam'}"
      ]
     },
     "execution_count": 24,
     "metadata": {},
     "output_type": "execute_result"
    }
   ],
   "source": [
    "s3={1,2.3,'sam','True',1+2j}  #prit random\n",
    "s3"
   ]
  },
  {
   "cell_type": "code",
   "execution_count": 3,
   "id": "953a17ac-650a-483a-882d-df2b9aa09311",
   "metadata": {},
   "outputs": [],
   "source": [
    "s1.add(1) #duplicates not allowed in set so not added 1"
   ]
  },
  {
   "cell_type": "code",
   "execution_count": 25,
   "id": "7c523c84-35a3-4786-95d7-9de114ad8239",
   "metadata": {},
   "outputs": [
    {
     "data": {
      "text/plain": [
       "{1, 3, 4, 32, 50, 90}"
      ]
     },
     "execution_count": 25,
     "metadata": {},
     "output_type": "execute_result"
    }
   ],
   "source": [
    "s1"
   ]
  },
  {
   "cell_type": "code",
   "execution_count": 5,
   "id": "ea02f9de-766d-46ba-86bf-67a94d7bfbd6",
   "metadata": {},
   "outputs": [],
   "source": [
    "s1.add(100)"
   ]
  },
  {
   "cell_type": "code",
   "execution_count": 6,
   "id": "72852e90-317e-4931-adaf-af984fb32f7f",
   "metadata": {},
   "outputs": [
    {
     "data": {
      "text/plain": [
       "{1, 3, 4, 32, 50, 90, 100}"
      ]
     },
     "execution_count": 6,
     "metadata": {},
     "output_type": "execute_result"
    }
   ],
   "source": [
    "s1"
   ]
  },
  {
   "cell_type": "code",
   "execution_count": 7,
   "id": "2084ddee-f119-444c-8c79-6c2776b51bb3",
   "metadata": {},
   "outputs": [],
   "source": [
    "s1.add(5)"
   ]
  },
  {
   "cell_type": "code",
   "execution_count": 56,
   "id": "53f11206-01ee-4908-8ba2-a8527dbfcf1b",
   "metadata": {},
   "outputs": [
    {
     "ename": "AttributeError",
     "evalue": "'set' object has no attribute 'append'",
     "output_type": "error",
     "traceback": [
      "\u001b[1;31m---------------------------------------------------------------------------\u001b[0m",
      "\u001b[1;31mAttributeError\u001b[0m                            Traceback (most recent call last)",
      "Cell \u001b[1;32mIn[56], line 1\u001b[0m\n\u001b[1;32m----> 1\u001b[0m s1\u001b[38;5;241m.\u001b[39mappend(\u001b[38;5;241m66\u001b[39m)\n",
      "\u001b[1;31mAttributeError\u001b[0m: 'set' object has no attribute 'append'"
     ]
    }
   ],
   "source": [
    "s1.append(66)"
   ]
  },
  {
   "cell_type": "code",
   "execution_count": 8,
   "id": "0598d8f3-0d75-42c4-a674-8d6831f4cecb",
   "metadata": {},
   "outputs": [
    {
     "data": {
      "text/plain": [
       "{1, 3, 4, 5, 32, 50, 90, 100}"
      ]
     },
     "execution_count": 8,
     "metadata": {},
     "output_type": "execute_result"
    }
   ],
   "source": [
    "s1 # order the elements in set"
   ]
  },
  {
   "cell_type": "code",
   "execution_count": 9,
   "id": "df5dab72-2bcc-454d-b29e-2c6b75146ace",
   "metadata": {},
   "outputs": [
    {
     "name": "stdout",
     "output_type": "stream",
     "text": [
      "{32, 1, 50, 3, 4, 100, 5, 90}\n"
     ]
    }
   ],
   "source": [
    "print(s1)  #unordered"
   ]
  },
  {
   "cell_type": "code",
   "execution_count": 10,
   "id": "275c8bf4-d578-4f91-b869-c8323a5ef384",
   "metadata": {},
   "outputs": [
    {
     "data": {
      "text/plain": [
       "{50, 90}"
      ]
     },
     "execution_count": 10,
     "metadata": {},
     "output_type": "execute_result"
    }
   ],
   "source": [
    "s3={50,90}\n",
    "s3"
   ]
  },
  {
   "cell_type": "code",
   "execution_count": 11,
   "id": "8c36147f-32a7-482f-8d2c-18b9d9a08eed",
   "metadata": {},
   "outputs": [],
   "source": [
    "s3.clear()"
   ]
  },
  {
   "cell_type": "code",
   "execution_count": 12,
   "id": "cfc1c088-0782-46ab-b4a6-f37eae0603a9",
   "metadata": {},
   "outputs": [
    {
     "data": {
      "text/plain": [
       "set()"
      ]
     },
     "execution_count": 12,
     "metadata": {},
     "output_type": "execute_result"
    }
   ],
   "source": [
    "s3"
   ]
  },
  {
   "cell_type": "code",
   "execution_count": 13,
   "id": "4e6fd5de-3e9a-429e-9f05-8e62eb73e1fd",
   "metadata": {},
   "outputs": [
    {
     "data": {
      "text/plain": [
       "{1, 3, 4, 5, 32, 50, 90, 100}"
      ]
     },
     "execution_count": 13,
     "metadata": {},
     "output_type": "execute_result"
    }
   ],
   "source": [
    "s4=s1.copy()\n",
    "s4"
   ]
  },
  {
   "cell_type": "code",
   "execution_count": 14,
   "id": "3f84a5a8-5ce1-4e5a-aec7-a59379ea2076",
   "metadata": {},
   "outputs": [
    {
     "ename": "TypeError",
     "evalue": "'set' object is not subscriptable",
     "output_type": "error",
     "traceback": [
      "\u001b[1;31m---------------------------------------------------------------------------\u001b[0m",
      "\u001b[1;31mTypeError\u001b[0m                                 Traceback (most recent call last)",
      "Cell \u001b[1;32mIn[14], line 1\u001b[0m\n\u001b[1;32m----> 1\u001b[0m s1[\u001b[38;5;241m0\u001b[39m]\n",
      "\u001b[1;31mTypeError\u001b[0m: 'set' object is not subscriptable"
     ]
    }
   ],
   "source": [
    "s1[0] # index not alowed in set "
   ]
  },
  {
   "cell_type": "code",
   "execution_count": null,
   "id": "b705ef6c-8953-40e4-9ff8-b8be6d963ac0",
   "metadata": {},
   "outputs": [],
   "source": [
    "s1[1:5] # Slicing not alowed in set "
   ]
  },
  {
   "cell_type": "code",
   "execution_count": null,
   "id": "b3c9d1e8-d39d-47f2-97bc-cdd8b0b78a2c",
   "metadata": {},
   "outputs": [],
   "source": [
    "s1"
   ]
  },
  {
   "cell_type": "code",
   "execution_count": null,
   "id": "86c3b806-cb06-4e31-95da-10f4c1fd8d44",
   "metadata": {},
   "outputs": [],
   "source": [
    "s1.pop() # random nbr deleted"
   ]
  },
  {
   "cell_type": "code",
   "execution_count": null,
   "id": "c16bec34-3135-47da-b304-d829323351ab",
   "metadata": {},
   "outputs": [],
   "source": [
    "s1"
   ]
  },
  {
   "cell_type": "code",
   "execution_count": null,
   "id": "57e68939-8595-49d5-949e-42c064829996",
   "metadata": {},
   "outputs": [],
   "source": [
    "s1.pop(0) # pop with arg will be error "
   ]
  },
  {
   "cell_type": "code",
   "execution_count": null,
   "id": "a7e6f6f8-49dc-4f47-a863-9c6e5ccd4f82",
   "metadata": {},
   "outputs": [],
   "source": [
    "s1"
   ]
  },
  {
   "cell_type": "code",
   "execution_count": null,
   "id": "03977251-eadc-487d-afc5-4ec584ded5e5",
   "metadata": {},
   "outputs": [],
   "source": [
    "s1.remove(5)"
   ]
  },
  {
   "cell_type": "code",
   "execution_count": null,
   "id": "04ed4267-a117-4f28-afd4-1fa88c9448a5",
   "metadata": {},
   "outputs": [],
   "source": [
    "s1"
   ]
  },
  {
   "cell_type": "code",
   "execution_count": null,
   "id": "c2558018-c7da-4a78-bf25-6297d95768ed",
   "metadata": {},
   "outputs": [],
   "source": [
    "s1.discard(4)"
   ]
  },
  {
   "cell_type": "code",
   "execution_count": null,
   "id": "facea151-7dc7-4055-915d-b476e1434538",
   "metadata": {},
   "outputs": [],
   "source": [
    "s1"
   ]
  },
  {
   "cell_type": "code",
   "execution_count": null,
   "id": "1688b35d-fda6-4f09-b1ae-4504da7a3980",
   "metadata": {},
   "outputs": [],
   "source": [
    "s1.discard(1000)"
   ]
  },
  {
   "cell_type": "code",
   "execution_count": null,
   "id": "1cfee0fe-3fc4-4fac-9b31-ef32f7438455",
   "metadata": {},
   "outputs": [],
   "source": [
    "s1"
   ]
  },
  {
   "cell_type": "code",
   "execution_count": null,
   "id": "79f8cafe-f1ff-468c-9431-3e333548de42",
   "metadata": {},
   "outputs": [],
   "source": [
    "1000 in s1"
   ]
  },
  {
   "cell_type": "markdown",
   "id": "ebbf36b8-b103-4df9-a6f7-655f0c392726",
   "metadata": {},
   "source": [
    "SET OPERATIONS\n"
   ]
  },
  {
   "cell_type": "code",
   "execution_count": 27,
   "id": "30861791-4473-401e-965c-f7a8de18378b",
   "metadata": {},
   "outputs": [],
   "source": [
    "a={1,2,3,4,5}\n",
    "b={4,5,6,7,8}\n",
    "c={8,9,10}"
   ]
  },
  {
   "cell_type": "code",
   "execution_count": 28,
   "id": "f6170e79-6c56-4b00-aa12-f863aa07d252",
   "metadata": {},
   "outputs": [
    {
     "data": {
      "text/plain": [
       "{1, 2, 3, 4, 5, 6, 7, 8}"
      ]
     },
     "execution_count": 28,
     "metadata": {},
     "output_type": "execute_result"
    }
   ],
   "source": [
    "a.union(b)"
   ]
  },
  {
   "cell_type": "code",
   "execution_count": 29,
   "id": "1c5ab2bf-ff0d-4faf-a543-3faf465a77bd",
   "metadata": {},
   "outputs": [
    {
     "data": {
      "text/plain": [
       "{1, 2, 3, 4, 5, 6, 7, 8}"
      ]
     },
     "execution_count": 29,
     "metadata": {},
     "output_type": "execute_result"
    }
   ],
   "source": [
    "a|b"
   ]
  },
  {
   "cell_type": "code",
   "execution_count": 30,
   "id": "aa096860-7e6f-4555-bfea-920355a4b1a3",
   "metadata": {},
   "outputs": [
    {
     "data": {
      "text/plain": [
       "{1, 2, 3, 4, 5, 6, 7, 8, 9, 10}"
      ]
     },
     "execution_count": 30,
     "metadata": {},
     "output_type": "execute_result"
    }
   ],
   "source": [
    "a.union(b,c)"
   ]
  },
  {
   "cell_type": "code",
   "execution_count": 31,
   "id": "71dbf2e3-4d85-4a14-876a-8427b01f9504",
   "metadata": {},
   "outputs": [
    {
     "data": {
      "text/plain": [
       "{1, 2, 3, 4, 5, 6, 7, 8, 9, 10}"
      ]
     },
     "execution_count": 31,
     "metadata": {},
     "output_type": "execute_result"
    }
   ],
   "source": [
    "a|b|c"
   ]
  },
  {
   "cell_type": "code",
   "execution_count": 33,
   "id": "715e587c-c174-4264-9a7d-b2db94d8cbd8",
   "metadata": {},
   "outputs": [
    {
     "data": {
      "text/plain": [
       "{1, 2, 3, 4, 5, 8, 9, 10}"
      ]
     },
     "execution_count": 33,
     "metadata": {},
     "output_type": "execute_result"
    }
   ],
   "source": [
    "a|c"
   ]
  },
  {
   "cell_type": "code",
   "execution_count": 34,
   "id": "6e5b4c91-34ea-42f3-a57e-d054f417753e",
   "metadata": {},
   "outputs": [
    {
     "name": "stdout",
     "output_type": "stream",
     "text": [
      "{1, 2, 3, 4, 5}\n",
      "{4, 5, 6, 7, 8}\n",
      "{8, 9, 10}\n"
     ]
    }
   ],
   "source": [
    "print(a)\n",
    "print(b)\n",
    "print(c)"
   ]
  },
  {
   "cell_type": "code",
   "execution_count": 35,
   "id": "374fb9f2-5884-4df8-80cb-5a6473bf7fcd",
   "metadata": {},
   "outputs": [
    {
     "data": {
      "text/plain": [
       "{4, 5}"
      ]
     },
     "execution_count": 35,
     "metadata": {},
     "output_type": "execute_result"
    }
   ],
   "source": [
    "a & b"
   ]
  },
  {
   "cell_type": "code",
   "execution_count": 36,
   "id": "d73eb911-0002-44e4-9e14-3b9c01a58ad5",
   "metadata": {},
   "outputs": [
    {
     "data": {
      "text/plain": [
       "set()"
      ]
     },
     "execution_count": 36,
     "metadata": {},
     "output_type": "execute_result"
    }
   ],
   "source": [
    "a & c\n"
   ]
  },
  {
   "cell_type": "code",
   "execution_count": 37,
   "id": "8056007e-bf23-4fe4-bd1d-ffb1dd879f1d",
   "metadata": {},
   "outputs": [
    {
     "data": {
      "text/plain": [
       "{4, 5}"
      ]
     },
     "execution_count": 37,
     "metadata": {},
     "output_type": "execute_result"
    }
   ],
   "source": [
    "a.intersection(b)"
   ]
  },
  {
   "cell_type": "code",
   "execution_count": 38,
   "id": "942bc7ca-1160-44c3-800c-639e925bfa99",
   "metadata": {},
   "outputs": [
    {
     "data": {
      "text/plain": [
       "set()"
      ]
     },
     "execution_count": 38,
     "metadata": {},
     "output_type": "execute_result"
    }
   ],
   "source": [
    "a.intersection(c)"
   ]
  },
  {
   "cell_type": "code",
   "execution_count": 39,
   "id": "02f9b7ae-13d8-4f3b-af66-d1996f352c59",
   "metadata": {},
   "outputs": [
    {
     "data": {
      "text/plain": [
       "{1, 2, 3}"
      ]
     },
     "execution_count": 39,
     "metadata": {},
     "output_type": "execute_result"
    }
   ],
   "source": [
    "a.difference(b)"
   ]
  },
  {
   "cell_type": "code",
   "execution_count": 40,
   "id": "2a205327-78fb-4670-8866-d9a69e9bd9ad",
   "metadata": {},
   "outputs": [
    {
     "data": {
      "text/plain": [
       "{1, 2, 3}"
      ]
     },
     "execution_count": 40,
     "metadata": {},
     "output_type": "execute_result"
    }
   ],
   "source": [
    "a-b"
   ]
  },
  {
   "cell_type": "code",
   "execution_count": null,
   "id": "0bc5b99b-f050-493b-a9a0-e3ac173fc714",
   "metadata": {},
   "outputs": [],
   "source": [
    "b.difference(a)"
   ]
  },
  {
   "cell_type": "code",
   "execution_count": 41,
   "id": "aad8bb42-09a6-43cd-ab5a-725718ffd1c7",
   "metadata": {},
   "outputs": [
    {
     "data": {
      "text/plain": [
       "{4, 5, 6, 7}"
      ]
     },
     "execution_count": 41,
     "metadata": {},
     "output_type": "execute_result"
    }
   ],
   "source": [
    "b-c"
   ]
  },
  {
   "cell_type": "code",
   "execution_count": 46,
   "id": "9d982402-45d7-4661-8e43-0bf2fb1f855b",
   "metadata": {},
   "outputs": [
    {
     "name": "stdout",
     "output_type": "stream",
     "text": [
      "{1, 2, 3, 4, 5}\n",
      "{6, 7}\n",
      "{8, 9, 10}\n"
     ]
    }
   ],
   "source": [
    "print(a)\n",
    "print(b)\n",
    "print(c)"
   ]
  },
  {
   "cell_type": "code",
   "execution_count": 49,
   "id": "526ac37f-7e5c-40b2-8d4c-c5e74320d268",
   "metadata": {},
   "outputs": [],
   "source": [
    "b.difference_update(a)"
   ]
  },
  {
   "cell_type": "code",
   "execution_count": 50,
   "id": "4c4499f1-18f6-4eb5-89a6-cf3621f7ff58",
   "metadata": {},
   "outputs": [
    {
     "name": "stdout",
     "output_type": "stream",
     "text": [
      "{1, 2, 3, 4, 5}\n",
      "{6, 7}\n",
      "{8, 9, 10}\n"
     ]
    }
   ],
   "source": [
    "print(a)\n",
    "print(b)\n",
    "print(c)"
   ]
  },
  {
   "cell_type": "code",
   "execution_count": 51,
   "id": "715f991c-45f5-4b96-b436-9fcddee6e642",
   "metadata": {},
   "outputs": [
    {
     "data": {
      "text/plain": [
       "{1, 2, 3, 4, 5, 6, 7}"
      ]
     },
     "execution_count": 51,
     "metadata": {},
     "output_type": "execute_result"
    }
   ],
   "source": [
    "a.symmetric_difference(b)"
   ]
  },
  {
   "cell_type": "code",
   "execution_count": 52,
   "id": "720bd391-d6cd-4d7d-bae1-dd500f75b6a2",
   "metadata": {},
   "outputs": [
    {
     "data": {
      "text/plain": [
       "{1, 2, 3, 4, 5, 6, 7}"
      ]
     },
     "execution_count": 52,
     "metadata": {},
     "output_type": "execute_result"
    }
   ],
   "source": [
    "a^b"
   ]
  },
  {
   "cell_type": "code",
   "execution_count": 53,
   "id": "2cfada19-439b-4224-bd55-e2ee6e70030d",
   "metadata": {},
   "outputs": [
    {
     "data": {
      "text/plain": [
       "{6, 7, 8, 9, 10}"
      ]
     },
     "execution_count": 53,
     "metadata": {},
     "output_type": "execute_result"
    }
   ],
   "source": [
    "b^c"
   ]
  },
  {
   "cell_type": "code",
   "execution_count": 54,
   "id": "f00a9381-ec4d-4615-b709-4b1e2ae9abe7",
   "metadata": {},
   "outputs": [],
   "source": [
    "a={1, 2, 3, 4, 5}\n",
    "b={4, 5, 6, 7,8}"
   ]
  },
  {
   "cell_type": "code",
   "execution_count": 55,
   "id": "5561643f-a013-496f-a0a7-d650cde5cd53",
   "metadata": {},
   "outputs": [
    {
     "data": {
      "text/plain": [
       "{1, 2, 3, 6, 7, 8}"
      ]
     },
     "execution_count": 55,
     "metadata": {},
     "output_type": "execute_result"
    }
   ],
   "source": [
    "a^b"
   ]
  },
  {
   "cell_type": "markdown",
   "id": "23cc3be5-3724-45a1-bc47-c8f60985807a",
   "metadata": {},
   "source": [
    "# SUPERSET (dad) , SUBSET (son), DISJOINT (neighbour)"
   ]
  },
  {
   "cell_type": "code",
   "execution_count": 58,
   "id": "627ba4b1-59d7-46ab-962f-ea530e4f8fb1",
   "metadata": {},
   "outputs": [],
   "source": [
    "a={1,2,3,4,5,6,7,8,9}\n",
    "b={3,4,5,6,7,8}\n",
    "c={10,20,20,40}"
   ]
  },
  {
   "cell_type": "code",
   "execution_count": 59,
   "id": "68a4784b-3b07-4158-b3a2-09f7ffdbe398",
   "metadata": {},
   "outputs": [
    {
     "data": {
      "text/plain": [
       "True"
      ]
     },
     "execution_count": 59,
     "metadata": {},
     "output_type": "execute_result"
    }
   ],
   "source": [
    "a.issuperset(b)"
   ]
  },
  {
   "cell_type": "code",
   "execution_count": 61,
   "id": "cf8ea4dc-786e-4e8c-8f1a-f87c330fcf62",
   "metadata": {},
   "outputs": [
    {
     "data": {
      "text/plain": [
       "True"
      ]
     },
     "execution_count": 61,
     "metadata": {},
     "output_type": "execute_result"
    }
   ],
   "source": [
    "b.issubset(a)"
   ]
  },
  {
   "cell_type": "code",
   "execution_count": 62,
   "id": "51ff1efe-b354-40ac-9550-f23400741656",
   "metadata": {},
   "outputs": [
    {
     "data": {
      "text/plain": [
       "True"
      ]
     },
     "execution_count": 62,
     "metadata": {},
     "output_type": "execute_result"
    }
   ],
   "source": [
    "c.isdisjoint(a)"
   ]
  },
  {
   "cell_type": "code",
   "execution_count": 63,
   "id": "20ca8791-2813-4895-acdb-8b3b3b993b7c",
   "metadata": {},
   "outputs": [],
   "source": [
    "a={1,2,3,4,5,6,7,8,9}\n",
    "b={3,4,5,6,7,8}\n",
    "c={10,20,20,40}"
   ]
  },
  {
   "cell_type": "code",
   "execution_count": 65,
   "id": "d6f3d2f8-ced8-4762-9f94-7a4231188fc0",
   "metadata": {},
   "outputs": [
    {
     "data": {
      "text/plain": [
       "False"
      ]
     },
     "execution_count": 65,
     "metadata": {},
     "output_type": "execute_result"
    }
   ],
   "source": [
    "b.isdisjoint(a)"
   ]
  },
  {
   "cell_type": "code",
   "execution_count": 66,
   "id": "eefb1436-bb67-4f3d-a8dc-0e609213cdbd",
   "metadata": {},
   "outputs": [
    {
     "data": {
      "text/plain": [
       "True"
      ]
     },
     "execution_count": 66,
     "metadata": {},
     "output_type": "execute_result"
    }
   ],
   "source": [
    "b.isdisjoint(c)"
   ]
  },
  {
   "cell_type": "code",
   "execution_count": 69,
   "id": "19f292d9-f57e-4a69-a039-d7f9027610c1",
   "metadata": {},
   "outputs": [],
   "source": [
    "a={1,2,3,4,5,6,7,8,9}\n",
    "b={35,45,55,65,75,85}\n",
    "c={10,20,20,40}"
   ]
  },
  {
   "cell_type": "code",
   "execution_count": 70,
   "id": "1fabb02d-c27a-4ab9-8ddd-47e5e786d92e",
   "metadata": {},
   "outputs": [
    {
     "data": {
      "text/plain": [
       "True"
      ]
     },
     "execution_count": 70,
     "metadata": {},
     "output_type": "execute_result"
    }
   ],
   "source": [
    "a.isdisjoint(b)"
   ]
  },
  {
   "cell_type": "code",
   "execution_count": 71,
   "id": "f49cbd97-5eb1-464b-a293-c392dbdd97e9",
   "metadata": {},
   "outputs": [
    {
     "data": {
      "text/plain": [
       "False"
      ]
     },
     "execution_count": 71,
     "metadata": {},
     "output_type": "execute_result"
    }
   ],
   "source": [
    "b.issubset(a)"
   ]
  },
  {
   "cell_type": "code",
   "execution_count": 72,
   "id": "52d2064e-27c3-46e3-adcb-92ff3c09fa7e",
   "metadata": {},
   "outputs": [
    {
     "data": {
      "text/plain": [
       "True"
      ]
     },
     "execution_count": 72,
     "metadata": {},
     "output_type": "execute_result"
    }
   ],
   "source": [
    "c.isdisjoint(a)"
   ]
  },
  {
   "cell_type": "code",
   "execution_count": null,
   "id": "11e401bd-c8f5-4aaf-9c3e-f1ff66bdf200",
   "metadata": {},
   "outputs": [],
   "source": []
  },
  {
   "cell_type": "markdown",
   "id": "286262fa-7324-49e9-979b-94d729adbbf5",
   "metadata": {},
   "source": [
    "# DICTIONARY"
   ]
  },
  {
   "cell_type": "code",
   "execution_count": 73,
   "id": "b0201bd6-2d32-49f6-8b6c-200e6dda6609",
   "metadata": {},
   "outputs": [
    {
     "data": {
      "text/plain": [
       "{}"
      ]
     },
     "execution_count": 73,
     "metadata": {},
     "output_type": "execute_result"
    }
   ],
   "source": [
    "d={}\n",
    "d"
   ]
  },
  {
   "cell_type": "code",
   "execution_count": 74,
   "id": "8325e403-3a2f-464f-ac99-2cf19a6aa29a",
   "metadata": {},
   "outputs": [
    {
     "data": {
      "text/plain": [
       "dict"
      ]
     },
     "execution_count": 74,
     "metadata": {},
     "output_type": "execute_result"
    }
   ],
   "source": [
    "type(d)"
   ]
  },
  {
   "cell_type": "code",
   "execution_count": 75,
   "id": "cd8bd1cd-e6fc-4c50-8465-b547be8a2620",
   "metadata": {},
   "outputs": [
    {
     "data": {
      "text/plain": [
       "{1: 'one', 2: 'two', 3: 'three'}"
      ]
     },
     "execution_count": 75,
     "metadata": {},
     "output_type": "execute_result"
    }
   ],
   "source": [
    "d={1:'one',2:'two',3:'three'}\n",
    "d"
   ]
  },
  {
   "cell_type": "code",
   "execution_count": 77,
   "id": "eb10ceac-fde3-489a-91cf-ac1cbe7904c8",
   "metadata": {},
   "outputs": [
    {
     "data": {
      "text/plain": [
       "dict_keys([1, 2, 3])"
      ]
     },
     "execution_count": 77,
     "metadata": {},
     "output_type": "execute_result"
    }
   ],
   "source": [
    "d.keys()"
   ]
  },
  {
   "cell_type": "code",
   "execution_count": 79,
   "id": "2a49a52b-00a7-4161-96a5-825d6aba2f00",
   "metadata": {},
   "outputs": [
    {
     "data": {
      "text/plain": [
       "dict_values(['one', 'two', 'three'])"
      ]
     },
     "execution_count": 79,
     "metadata": {},
     "output_type": "execute_result"
    }
   ],
   "source": [
    "d.values()"
   ]
  },
  {
   "cell_type": "code",
   "execution_count": 80,
   "id": "5a4a34d1-5229-437f-9832-d3b0ecb2e492",
   "metadata": {},
   "outputs": [
    {
     "data": {
      "text/plain": [
       "dict_items([(1, 'one'), (2, 'two'), (3, 'three')])"
      ]
     },
     "execution_count": 80,
     "metadata": {},
     "output_type": "execute_result"
    }
   ],
   "source": [
    "d.items()"
   ]
  },
  {
   "cell_type": "code",
   "execution_count": 84,
   "id": "fef3ad7e-3911-4f7d-8cdb-efb97ccf58c1",
   "metadata": {},
   "outputs": [
    {
     "data": {
      "text/plain": [
       "'three'"
      ]
     },
     "execution_count": 84,
     "metadata": {},
     "output_type": "execute_result"
    }
   ],
   "source": [
    "d[3]"
   ]
  },
  {
   "cell_type": "code",
   "execution_count": 87,
   "id": "45bb70cf-4bc2-495d-91b7-90a97c881c6a",
   "metadata": {},
   "outputs": [
    {
     "name": "stdout",
     "output_type": "stream",
     "text": [
      "1\n",
      "2\n",
      "3\n"
     ]
    }
   ],
   "source": [
    "for i in d:\n",
    "    print(i)"
   ]
  },
  {
   "cell_type": "code",
   "execution_count": 96,
   "id": "7e1cfd17-5d47-4364-af2e-29ce3a19fb68",
   "metadata": {},
   "outputs": [
    {
     "data": {
      "text/plain": [
       "'three'"
      ]
     },
     "execution_count": 96,
     "metadata": {},
     "output_type": "execute_result"
    }
   ],
   "source": [
    "d.get(3)"
   ]
  },
  {
   "cell_type": "code",
   "execution_count": 95,
   "id": "5ddbe05f-e8c0-4950-9b0e-d3dcfa49d6c0",
   "metadata": {},
   "outputs": [
    {
     "data": {
      "text/plain": [
       "'three'"
      ]
     },
     "execution_count": 95,
     "metadata": {},
     "output_type": "execute_result"
    }
   ],
   "source": [
    "d[3]"
   ]
  },
  {
   "cell_type": "code",
   "execution_count": 98,
   "id": "e5640f2b-9f50-4e20-abfe-07e6e5d5e3ca",
   "metadata": {},
   "outputs": [
    {
     "name": "stdout",
     "output_type": "stream",
     "text": [
      "1 : one\n",
      "2 : two\n",
      "3 : three\n"
     ]
    }
   ],
   "source": [
    "for i in d:\n",
    "    print(i,':',d[i])"
   ]
  },
  {
   "cell_type": "code",
   "execution_count": 204,
   "id": "e79d7418-475d-43ae-a076-8baf225a4eb8",
   "metadata": {},
   "outputs": [
    {
     "data": {
      "text/plain": [
       "{1: 'one', 2: 'two', 'A': ['asif', 'john', 'Maria'], 'B': ('Bat', 'ca mydict')}"
      ]
     },
     "execution_count": 204,
     "metadata": {},
     "output_type": "execute_result"
    }
   ],
   "source": [
    "mydict = {1:'one' , 2:'two' , 'A':['asif' , 'john' , 'Maria'], 'B':('Bat' , 'ca mydict')}\n",
    "mydict"
   ]
  },
  {
   "cell_type": "code",
   "execution_count": 205,
   "id": "1f6927d1-14d8-4908-a658-e26929e717ec",
   "metadata": {},
   "outputs": [
    {
     "data": {
      "text/plain": [
       "{'c': None, 'a': None, 'd': None, 'b': None}"
      ]
     },
     "execution_count": 205,
     "metadata": {},
     "output_type": "execute_result"
    }
   ],
   "source": [
    "keys = {'a' , 'b' , 'c' , 'd'}\n",
    "mydict3 = dict.fromkeys(keys) # Create a dictionary from a sequence of keys\n",
    "mydict3"
   ]
  },
  {
   "cell_type": "code",
   "execution_count": 207,
   "id": "4277b461-3aae-4202-b14e-606b9967670c",
   "metadata": {},
   "outputs": [
    {
     "data": {
      "text/plain": [
       "{'c': 10, 'a': 10, 'd': 10, 'b': 10}"
      ]
     },
     "execution_count": 207,
     "metadata": {},
     "output_type": "execute_result"
    }
   ],
   "source": [
    "keys = {'a' , 'b' , 'c' , 'd'}\n",
    "value = 10\n",
    "mydict3 = dict.fromkeys(keys , value) # Create a dictionary from a sequence of\n",
    "mydict3"
   ]
  },
  {
   "cell_type": "code",
   "execution_count": 209,
   "id": "bdab95e2-f21c-4e73-af92-961d08f7cb18",
   "metadata": {},
   "outputs": [
    {
     "data": {
      "text/plain": [
       "{'c': [10, 20, 30], 'a': [10, 20, 30], 'd': [10, 20, 30], 'b': [10, 20, 30]}"
      ]
     },
     "execution_count": 209,
     "metadata": {},
     "output_type": "execute_result"
    }
   ],
   "source": [
    "keys = {'a' , 'b' , 'c' , 'd'} \n",
    "value = [10,20,30]\n",
    "mydict3 = dict.fromkeys(keys , value) # Create a dictionary from a sequence of\n",
    "mydict3"
   ]
  },
  {
   "cell_type": "code",
   "execution_count": 210,
   "id": "50d65473-a4b6-47b5-8766-c70457b106df",
   "metadata": {},
   "outputs": [
    {
     "data": {
      "text/plain": [
       "{'c': [10, 20, 30, 40],\n",
       " 'a': [10, 20, 30, 40],\n",
       " 'd': [10, 20, 30, 40],\n",
       " 'b': [10, 20, 30, 40]}"
      ]
     },
     "execution_count": 210,
     "metadata": {},
     "output_type": "execute_result"
    }
   ],
   "source": [
    "value.append(40) \n",
    "mydict3"
   ]
  },
  {
   "cell_type": "markdown",
   "id": "0e4be3fa-677c-444f-bb6e-ea56cbcf2761",
   "metadata": {},
   "source": [
    "# Accessing Items"
   ]
  },
  {
   "cell_type": "code",
   "execution_count": 211,
   "id": "5839c2ed-c486-413e-8dc7-b55607611ddd",
   "metadata": {},
   "outputs": [
    {
     "data": {
      "text/plain": [
       "{1: 'one', 2: 'two', 3: 'three', 4: 'four'}"
      ]
     },
     "execution_count": 211,
     "metadata": {},
     "output_type": "execute_result"
    }
   ],
   "source": [
    "mydict = {1:'one' , 2:'two' , 3:'three' , 4:'four'} \n",
    "mydict"
   ]
  },
  {
   "cell_type": "code",
   "execution_count": 212,
   "id": "07e9c901-75ce-4267-bbc9-410da0b76faa",
   "metadata": {},
   "outputs": [
    {
     "data": {
      "text/plain": [
       "'one'"
      ]
     },
     "execution_count": 212,
     "metadata": {},
     "output_type": "execute_result"
    }
   ],
   "source": [
    "mydict[1] # Access item using key"
   ]
  },
  {
   "cell_type": "code",
   "execution_count": 213,
   "id": "f9bcab05-bdf2-47b5-84e5-9842c667f652",
   "metadata": {},
   "outputs": [
    {
     "data": {
      "text/plain": [
       "'one'"
      ]
     },
     "execution_count": 213,
     "metadata": {},
     "output_type": "execute_result"
    }
   ],
   "source": [
    "mydict.get(1) # Access item using get() method"
   ]
  },
  {
   "cell_type": "code",
   "execution_count": 214,
   "id": "ae9f1e9b-c329-46f0-8c3b-861e26a1dda4",
   "metadata": {},
   "outputs": [
    {
     "data": {
      "text/plain": [
       "{'Name': 'Asif', 'ID': 74123, 'DOB': 1991, 'job': 'Analyst'}"
      ]
     },
     "execution_count": 214,
     "metadata": {},
     "output_type": "execute_result"
    }
   ],
   "source": [
    "mydict1 = {'Name':'Asif' , 'ID': 74123 , 'DOB': 1991 , 'job' :'Analyst'} \n",
    "mydict1"
   ]
  },
  {
   "cell_type": "code",
   "execution_count": 215,
   "id": "5173b06f-7980-495d-be63-b2f931eb8b9f",
   "metadata": {},
   "outputs": [
    {
     "data": {
      "text/plain": [
       "'Asif'"
      ]
     },
     "execution_count": 215,
     "metadata": {},
     "output_type": "execute_result"
    }
   ],
   "source": [
    "mydict1['Name'] # Access item using key"
   ]
  },
  {
   "cell_type": "code",
   "execution_count": 216,
   "id": "5757b4e4-763c-43f1-b370-d2c4089de046",
   "metadata": {},
   "outputs": [
    {
     "data": {
      "text/plain": [
       "'Analyst'"
      ]
     },
     "execution_count": 216,
     "metadata": {},
     "output_type": "execute_result"
    }
   ],
   "source": [
    "mydict1.get('job') # Access item using get() method"
   ]
  },
  {
   "cell_type": "markdown",
   "id": "c9a4a406-0d4c-4052-9630-b93e5bb4afb1",
   "metadata": {},
   "source": [
    "# Add, Remove & Change Items"
   ]
  },
  {
   "cell_type": "code",
   "execution_count": 217,
   "id": "19a3fc8e-3028-43ef-a46c-7db502d03003",
   "metadata": {},
   "outputs": [
    {
     "data": {
      "text/plain": [
       "{'Name': 'Asif', 'ID': 12345, 'DOB': 1991, 'Address': 'Hilsinki'}"
      ]
     },
     "execution_count": 217,
     "metadata": {},
     "output_type": "execute_result"
    }
   ],
   "source": [
    "mydict1 = {'Name':'Asif' , 'ID': 12345 , 'DOB': 1991 , 'Address' : 'Hilsinki'} \n",
    "mydict1"
   ]
  },
  {
   "cell_type": "code",
   "execution_count": 218,
   "id": "9535a320-2fd6-4a2c-b907-fd8c50731422",
   "metadata": {},
   "outputs": [
    {
     "data": {
      "text/plain": [
       "{'Name': 'Asif', 'ID': 12345, 'DOB': 1990, 'Address': 'Rourkela'}"
      ]
     },
     "execution_count": 218,
     "metadata": {},
     "output_type": "execute_result"
    }
   ],
   "source": [
    "mydict1['DOB'] = 1990 # Changing Dictionary Items\n",
    "mydict1['Address'] = 'Rourkela' \n",
    "mydict1"
   ]
  },
  {
   "cell_type": "code",
   "execution_count": 219,
   "id": "4487fac2-5152-4b6a-83d9-301372ac5bd7",
   "metadata": {},
   "outputs": [
    {
     "data": {
      "text/plain": [
       "{'Name': 'Asif', 'ID': 12345, 'DOB': 2025, 'Address': 'Rourkela'}"
      ]
     },
     "execution_count": 219,
     "metadata": {},
     "output_type": "execute_result"
    }
   ],
   "source": [
    "dict1 = {'DOB':2025}\n",
    "mydict1.update(dict1) \n",
    "mydict1"
   ]
  },
  {
   "cell_type": "code",
   "execution_count": 220,
   "id": "4f0f5472-696f-4f37-85b0-f515574efa57",
   "metadata": {},
   "outputs": [
    {
     "data": {
      "text/plain": [
       "{'Name': 'Asif',\n",
       " 'ID': 12345,\n",
       " 'DOB': 2025,\n",
       " 'Address': 'Rourkela',\n",
       " 'Job': 'Analyst'}"
      ]
     },
     "execution_count": 220,
     "metadata": {},
     "output_type": "execute_result"
    }
   ],
   "source": [
    "mydict1['Job'] = 'Analyst' # Adding items in the dictionary\n",
    "mydict1"
   ]
  },
  {
   "cell_type": "code",
   "execution_count": 221,
   "id": "6b649866-6952-47ac-8f8c-aecf26b9897e",
   "metadata": {},
   "outputs": [
    {
     "data": {
      "text/plain": [
       "{'Name': 'Asif', 'ID': 12345, 'DOB': 2025, 'Address': 'Rourkela'}"
      ]
     },
     "execution_count": 221,
     "metadata": {},
     "output_type": "execute_result"
    }
   ],
   "source": [
    "mydict1.pop('Job') # Removing items in the dictionary using Pop method\n",
    "mydict1"
   ]
  },
  {
   "cell_type": "code",
   "execution_count": 222,
   "id": "ddb99316-29d1-4c31-8221-bfaaedb79bcc",
   "metadata": {},
   "outputs": [
    {
     "data": {
      "text/plain": [
       "('Address', 'Rourkela')"
      ]
     },
     "execution_count": 222,
     "metadata": {},
     "output_type": "execute_result"
    }
   ],
   "source": [
    "mydict1.popitem() # A random item is removed"
   ]
  },
  {
   "cell_type": "code",
   "execution_count": 223,
   "id": "c943739e-4eab-4575-9b5d-759f5d2ff9c3",
   "metadata": {},
   "outputs": [
    {
     "data": {
      "text/plain": [
       "{'Name': 'Asif', 'ID': 12345, 'DOB': 2025}"
      ]
     },
     "execution_count": 223,
     "metadata": {},
     "output_type": "execute_result"
    }
   ],
   "source": [
    "mydict1"
   ]
  },
  {
   "cell_type": "code",
   "execution_count": 224,
   "id": "268d6826-21a4-40af-a35a-9fcd4beafcef",
   "metadata": {},
   "outputs": [
    {
     "data": {
      "text/plain": [
       "{'Name': 'Asif', 'DOB': 2025}"
      ]
     },
     "execution_count": 224,
     "metadata": {},
     "output_type": "execute_result"
    }
   ],
   "source": [
    "del[mydict1['ID']] # Removing item using del method\n",
    "mydict1"
   ]
  },
  {
   "cell_type": "code",
   "execution_count": 225,
   "id": "268513f2-7b75-430a-8ef8-2ad90b034cab",
   "metadata": {},
   "outputs": [
    {
     "data": {
      "text/plain": [
       "{}"
      ]
     },
     "execution_count": 225,
     "metadata": {},
     "output_type": "execute_result"
    }
   ],
   "source": [
    "mydict1.clear() # Delete all items of the dictionary using clear method\n",
    "mydict1"
   ]
  },
  {
   "cell_type": "code",
   "execution_count": 226,
   "id": "9be541bf-b979-440f-9c22-3fd724e00005",
   "metadata": {},
   "outputs": [
    {
     "ename": "NameError",
     "evalue": "name 'mydict1' is not defined",
     "output_type": "error",
     "traceback": [
      "\u001b[1;31m---------------------------------------------------------------------------\u001b[0m",
      "\u001b[1;31mNameError\u001b[0m                                 Traceback (most recent call last)",
      "Cell \u001b[1;32mIn[226], line 2\u001b[0m\n\u001b[0;32m      1\u001b[0m \u001b[38;5;28;01mdel\u001b[39;00m mydict1 \u001b[38;5;66;03m# Delete the dictionary object\u001b[39;00m\n\u001b[1;32m----> 2\u001b[0m mydict1\n",
      "\u001b[1;31mNameError\u001b[0m: name 'mydict1' is not defined"
     ]
    }
   ],
   "source": [
    "del mydict1 # Delete the dictionary object\n",
    "mydict1"
   ]
  },
  {
   "cell_type": "markdown",
   "id": "35b9fda0-b3f9-4db2-b69a-23d1cb7354cc",
   "metadata": {},
   "source": [
    "# Loop through a Dictionary"
   ]
  },
  {
   "cell_type": "code",
   "execution_count": 227,
   "id": "eee33fd9-4bec-4a46-9420-b8b464c63186",
   "metadata": {},
   "outputs": [
    {
     "data": {
      "text/plain": [
       "{'Name': 'Asif', 'ID': 12345, 'DOB': 1991, 'Address': 'Hilsinki'}"
      ]
     },
     "execution_count": 227,
     "metadata": {},
     "output_type": "execute_result"
    }
   ],
   "source": [
    "mydict1 = {'Name':'Asif' , 'ID': 12345 , 'DOB': 1991 , 'Address' : 'Hilsinki' }\n",
    "mydict1"
   ]
  },
  {
   "cell_type": "code",
   "execution_count": 229,
   "id": "a2248149-7ae2-42c1-8ce6-893d948e5dd6",
   "metadata": {},
   "outputs": [
    {
     "name": "stdout",
     "output_type": "stream",
     "text": [
      "Name : Asif\n",
      "ID : 12345\n",
      "DOB : 1991\n",
      "Address : Hilsinki\n"
     ]
    }
   ],
   "source": [
    "for i in mydict1:\n",
    "    print(i ,':',mydict1[i]) # Key & value pair"
   ]
  },
  {
   "cell_type": "code",
   "execution_count": 230,
   "id": "3232b674-a599-4488-9671-c519e864f73c",
   "metadata": {},
   "outputs": [
    {
     "name": "stdout",
     "output_type": "stream",
     "text": [
      "Asif\n",
      "12345\n",
      "1991\n",
      "Hilsinki\n"
     ]
    }
   ],
   "source": [
    "for i in mydict1:\n",
    "    print(mydict1[i]) # Dictionary items"
   ]
  },
  {
   "cell_type": "markdown",
   "id": "e2a188cf-b8dd-4031-8fc9-bd5a71a8a578",
   "metadata": {},
   "source": [
    "# Dictionary Membership"
   ]
  },
  {
   "cell_type": "code",
   "execution_count": 231,
   "id": "376a2481-c169-495f-985b-a257fb56a839",
   "metadata": {},
   "outputs": [
    {
     "data": {
      "text/plain": [
       "{'Name': 'Asif', 'ID': 12345, 'DOB': 1991, 'Job': 'Analyst'}"
      ]
     },
     "execution_count": 231,
     "metadata": {},
     "output_type": "execute_result"
    }
   ],
   "source": [
    "mydict1 = {'Name':'Asif' , 'ID': 12345 , 'DOB': 1991 , 'Job': 'Analyst'} \n",
    "mydict1"
   ]
  },
  {
   "cell_type": "code",
   "execution_count": 232,
   "id": "e6abe407-783d-4e8c-8cc8-13604be5d145",
   "metadata": {},
   "outputs": [
    {
     "data": {
      "text/plain": [
       "True"
      ]
     },
     "execution_count": 232,
     "metadata": {},
     "output_type": "execute_result"
    }
   ],
   "source": [
    "'Name' in mydict1 # Test if a key is in a dictionary or not."
   ]
  },
  {
   "cell_type": "code",
   "execution_count": 233,
   "id": "d41b5a6b-6ed8-4ecf-8eac-901ea7d9d2b2",
   "metadata": {},
   "outputs": [
    {
     "data": {
      "text/plain": [
       "False"
      ]
     },
     "execution_count": 233,
     "metadata": {},
     "output_type": "execute_result"
    }
   ],
   "source": [
    "'Asif' in mydict1 # Membership test can be only done for keys."
   ]
  },
  {
   "cell_type": "code",
   "execution_count": 234,
   "id": "0676761a-bac6-46e3-ba8f-5add662e4974",
   "metadata": {},
   "outputs": [
    {
     "data": {
      "text/plain": [
       "True"
      ]
     },
     "execution_count": 234,
     "metadata": {},
     "output_type": "execute_result"
    }
   ],
   "source": [
    "'ID' in mydict1"
   ]
  },
  {
   "cell_type": "code",
   "execution_count": 235,
   "id": "9faf709a-3729-4dbf-936d-40f6cb6d5e31",
   "metadata": {},
   "outputs": [
    {
     "data": {
      "text/plain": [
       "False"
      ]
     },
     "execution_count": 235,
     "metadata": {},
     "output_type": "execute_result"
    }
   ],
   "source": [
    "'Address' in mydict1"
   ]
  },
  {
   "cell_type": "code",
   "execution_count": 236,
   "id": "8972e040-6a0c-4192-8b9e-70aee34f1b10",
   "metadata": {},
   "outputs": [
    {
     "data": {
      "text/plain": [
       "True"
      ]
     },
     "execution_count": 236,
     "metadata": {},
     "output_type": "execute_result"
    }
   ],
   "source": [
    "all(mydict1) # Will Return false as one value is false (Value 0)"
   ]
  },
  {
   "cell_type": "code",
   "execution_count": null,
   "id": "fe7ec181-5566-40e5-b74b-7e200b76337c",
   "metadata": {},
   "outputs": [],
   "source": []
  },
  {
   "cell_type": "code",
   "execution_count": 100,
   "id": "7ca02a27-909c-4834-a1c4-f8dcb558ee3f",
   "metadata": {},
   "outputs": [
    {
     "data": {
      "text/plain": [
       "()"
      ]
     },
     "execution_count": 100,
     "metadata": {},
     "output_type": "execute_result"
    }
   ],
   "source": [
    "tup1 = () # Empty tuple\n",
    "tup1"
   ]
  },
  {
   "cell_type": "code",
   "execution_count": 101,
   "id": "007cfb31-cee5-4798-b302-044653cbe3bf",
   "metadata": {},
   "outputs": [
    {
     "data": {
      "text/plain": [
       "(10, 30, 60)"
      ]
     },
     "execution_count": 101,
     "metadata": {},
     "output_type": "execute_result"
    }
   ],
   "source": [
    "tup2 = (10,30,60) # tuple of integers numbers\n",
    "tup2"
   ]
  },
  {
   "cell_type": "code",
   "execution_count": 102,
   "id": "c5f7dfdb-f63a-4203-84ca-cf25b09a2e8c",
   "metadata": {},
   "outputs": [
    {
     "data": {
      "text/plain": [
       "(10.77, 30.66, 60.89)"
      ]
     },
     "execution_count": 102,
     "metadata": {},
     "output_type": "execute_result"
    }
   ],
   "source": [
    "tup3 = (10.77,30.66,60.89) # tuple of float numbers\n",
    "tup3"
   ]
  },
  {
   "cell_type": "code",
   "execution_count": 103,
   "id": "255a68f4-c101-49a6-9cb0-bd3365c5c011",
   "metadata": {},
   "outputs": [
    {
     "data": {
      "text/plain": [
       "('one', 'two', 'three')"
      ]
     },
     "execution_count": 103,
     "metadata": {},
     "output_type": "execute_result"
    }
   ],
   "source": [
    "tup4 = ('one','two' , \"three\") # tuple of strings\n",
    "tup4"
   ]
  },
  {
   "cell_type": "code",
   "execution_count": 104,
   "id": "b2761c01-f940-43a3-999f-c68209eb1518",
   "metadata": {},
   "outputs": [
    {
     "data": {
      "text/plain": [
       "('Asif', 25, (50, 100), (150, 90))"
      ]
     },
     "execution_count": 104,
     "metadata": {},
     "output_type": "execute_result"
    }
   ],
   "source": [
    "tup5 = ('Asif', 25 ,(50, 100),(150, 90)) # Nested tuples\n",
    "tup5"
   ]
  },
  {
   "cell_type": "code",
   "execution_count": 105,
   "id": "15a8983f-1092-4381-887f-ad02d29ef026",
   "metadata": {},
   "outputs": [
    {
     "data": {
      "text/plain": [
       "(100, 'Asif', 17.765)"
      ]
     },
     "execution_count": 105,
     "metadata": {},
     "output_type": "execute_result"
    }
   ],
   "source": [
    "tup6 = (100, 'Asif', 17.765) # Tuple of mixed data types\n",
    "tup6"
   ]
  },
  {
   "cell_type": "code",
   "execution_count": 106,
   "id": "627afbe7-c537-4e3e-b8f5-0295d1e93591",
   "metadata": {},
   "outputs": [
    {
     "data": {
      "text/plain": [
       "('Asif', 25, [50, 100], [150, 90], {'David', 'John'}, (99, 22, 33))"
      ]
     },
     "execution_count": 106,
     "metadata": {},
     "output_type": "execute_result"
    }
   ],
   "source": [
    "tup7 = ('Asif', 25 ,[50, 100],[150, 90] , {'John' , 'David'} , (99,22,33))\n",
    "tup7"
   ]
  },
  {
   "cell_type": "code",
   "execution_count": 107,
   "id": "11d90b40-63b7-496d-91fb-702f092f419a",
   "metadata": {},
   "outputs": [
    {
     "data": {
      "text/plain": [
       "6"
      ]
     },
     "execution_count": 107,
     "metadata": {},
     "output_type": "execute_result"
    }
   ],
   "source": [
    "len(tup7) #Length of list"
   ]
  },
  {
   "cell_type": "code",
   "execution_count": null,
   "id": "843f0b4b-5afa-4419-816a-17919ccff004",
   "metadata": {},
   "outputs": [],
   "source": [
    "# Tuple Indexing"
   ]
  },
  {
   "cell_type": "code",
   "execution_count": 110,
   "id": "e78d52ff-65dd-49f1-9489-4b786fa974a2",
   "metadata": {},
   "outputs": [
    {
     "data": {
      "text/plain": [
       "(10, 30, 60)"
      ]
     },
     "execution_count": 110,
     "metadata": {},
     "output_type": "execute_result"
    }
   ],
   "source": [
    "tup2"
   ]
  },
  {
   "cell_type": "code",
   "execution_count": 111,
   "id": "5d7bc313-5534-4e89-a34e-d61417023397",
   "metadata": {},
   "outputs": [
    {
     "data": {
      "text/plain": [
       "10"
      ]
     },
     "execution_count": 111,
     "metadata": {},
     "output_type": "execute_result"
    }
   ],
   "source": [
    "tup2[0] # Retreive first element of the tuple"
   ]
  },
  {
   "cell_type": "code",
   "execution_count": 113,
   "id": "4ba39582-acf6-4f26-ba22-95458660d307",
   "metadata": {},
   "outputs": [
    {
     "data": {
      "text/plain": [
       "('one', 'two', 'three')"
      ]
     },
     "execution_count": 113,
     "metadata": {},
     "output_type": "execute_result"
    }
   ],
   "source": [
    "tup4"
   ]
  },
  {
   "cell_type": "code",
   "execution_count": 112,
   "id": "a4d96700-4fe7-4871-8950-e182d41728eb",
   "metadata": {},
   "outputs": [
    {
     "data": {
      "text/plain": [
       "'one'"
      ]
     },
     "execution_count": 112,
     "metadata": {},
     "output_type": "execute_result"
    }
   ],
   "source": [
    "tup4[0] # Retreive first element of the tuple"
   ]
  },
  {
   "cell_type": "code",
   "execution_count": 114,
   "id": "40159780-b340-426b-94a3-21baa65e364a",
   "metadata": {},
   "outputs": [
    {
     "data": {
      "text/plain": [
       "'o'"
      ]
     },
     "execution_count": 114,
     "metadata": {},
     "output_type": "execute_result"
    }
   ],
   "source": [
    "tup4[0][0] # Nested indexing - Access the first character of the first tuple ele"
   ]
  },
  {
   "cell_type": "code",
   "execution_count": 115,
   "id": "f745ed42-9c36-4637-a6ef-97124e5cec84",
   "metadata": {},
   "outputs": [
    {
     "data": {
      "text/plain": [
       "'three'"
      ]
     },
     "execution_count": 115,
     "metadata": {},
     "output_type": "execute_result"
    }
   ],
   "source": [
    "tup4[-1] # Last item of the tuple"
   ]
  },
  {
   "cell_type": "code",
   "execution_count": 116,
   "id": "5d8939e2-2408-43b4-b585-7108f0c264cc",
   "metadata": {},
   "outputs": [
    {
     "data": {
      "text/plain": [
       "(150, 90)"
      ]
     },
     "execution_count": 116,
     "metadata": {},
     "output_type": "execute_result"
    }
   ],
   "source": [
    "tup5[-1] # Last item of the tuple"
   ]
  },
  {
   "cell_type": "markdown",
   "id": "1e756269-09c5-44f0-9d4f-6afc45f93644",
   "metadata": {},
   "source": [
    "#Tuple Slicing"
   ]
  },
  {
   "cell_type": "code",
   "execution_count": 119,
   "id": "81be2f13-b2c0-48b9-9a84-fb2be11ad69c",
   "metadata": {},
   "outputs": [],
   "source": [
    "mytuple = ('one' , 'two' , 'three' , 'four' , 'five' , 'six' , 'seven' , 'eight')"
   ]
  },
  {
   "cell_type": "code",
   "execution_count": 120,
   "id": "0daea1a3-04cb-4e8e-a28c-caf00149239d",
   "metadata": {},
   "outputs": [
    {
     "data": {
      "text/plain": [
       "('one', 'two', 'three')"
      ]
     },
     "execution_count": 120,
     "metadata": {},
     "output_type": "execute_result"
    }
   ],
   "source": [
    "mytuple[0:3] # Return all items from 0th to 3rd index"
   ]
  },
  {
   "cell_type": "code",
   "execution_count": 121,
   "id": "f70894a7-a050-4413-934f-e4d5a5337f6e",
   "metadata": {},
   "outputs": [
    {
     "data": {
      "text/plain": [
       "('three', 'four', 'five')"
      ]
     },
     "execution_count": 121,
     "metadata": {},
     "output_type": "execute_result"
    }
   ],
   "source": [
    "mytuple[2:5] # List all items from 2nd to 5th"
   ]
  },
  {
   "cell_type": "code",
   "execution_count": 122,
   "id": "9c58c98a-3c09-4f56-a7ec-eb1adfc999fc",
   "metadata": {},
   "outputs": [
    {
     "data": {
      "text/plain": [
       "('one', 'two', 'three')"
      ]
     },
     "execution_count": 122,
     "metadata": {},
     "output_type": "execute_result"
    }
   ],
   "source": [
    "mytuple[:3] # Return first three items"
   ]
  },
  {
   "cell_type": "code",
   "execution_count": 123,
   "id": "f16d362a-6cc5-4ef7-b701-40b5dfc14b95",
   "metadata": {},
   "outputs": [
    {
     "data": {
      "text/plain": [
       "('one', 'two')"
      ]
     },
     "execution_count": 123,
     "metadata": {},
     "output_type": "execute_result"
    }
   ],
   "source": [
    "mytuple[:2] # Return first two items"
   ]
  },
  {
   "cell_type": "code",
   "execution_count": 124,
   "id": "779da68e-9716-4a80-a277-d8a5ef167468",
   "metadata": {},
   "outputs": [
    {
     "data": {
      "text/plain": [
       "('six', 'seven', 'eight')"
      ]
     },
     "execution_count": 124,
     "metadata": {},
     "output_type": "execute_result"
    }
   ],
   "source": [
    "mytuple[-3:] # Return last three items"
   ]
  },
  {
   "cell_type": "code",
   "execution_count": 125,
   "id": "98a95b6f-0e8c-49a1-be05-637812eb4618",
   "metadata": {},
   "outputs": [
    {
     "data": {
      "text/plain": [
       "('seven', 'eight')"
      ]
     },
     "execution_count": 125,
     "metadata": {},
     "output_type": "execute_result"
    }
   ],
   "source": [
    "mytuple[-2:] # Return last two items"
   ]
  },
  {
   "cell_type": "code",
   "execution_count": 126,
   "id": "51f70227-06ff-423d-95a1-11122179f42f",
   "metadata": {},
   "outputs": [
    {
     "data": {
      "text/plain": [
       "'eight'"
      ]
     },
     "execution_count": 126,
     "metadata": {},
     "output_type": "execute_result"
    }
   ],
   "source": [
    "mytuple[-1] # Return last item of the tuple"
   ]
  },
  {
   "cell_type": "code",
   "execution_count": 127,
   "id": "f777796b-fa3d-43a7-99f2-24cfe655f527",
   "metadata": {},
   "outputs": [
    {
     "data": {
      "text/plain": [
       "('one', 'two', 'three', 'four', 'five', 'six', 'seven', 'eight')"
      ]
     },
     "execution_count": 127,
     "metadata": {},
     "output_type": "execute_result"
    }
   ],
   "source": [
    "mytuple[:] # Return whole tuple"
   ]
  },
  {
   "cell_type": "markdown",
   "id": "88705806-27ac-462b-bfbb-b4e68adfc83d",
   "metadata": {},
   "source": [
    "# Remove & Change Items"
   ]
  },
  {
   "cell_type": "code",
   "execution_count": 128,
   "id": "dd3c4242-0167-4b03-867d-48dd2a7e8121",
   "metadata": {},
   "outputs": [
    {
     "data": {
      "text/plain": [
       "('one', 'two', 'three', 'four', 'five', 'six', 'seven', 'eight')"
      ]
     },
     "execution_count": 128,
     "metadata": {},
     "output_type": "execute_result"
    }
   ],
   "source": [
    "mytuple"
   ]
  },
  {
   "cell_type": "code",
   "execution_count": 129,
   "id": "5b38aa03-6fa8-4079-8a82-d88a12d3a245",
   "metadata": {},
   "outputs": [
    {
     "ename": "TypeError",
     "evalue": "'tuple' object doesn't support item deletion",
     "output_type": "error",
     "traceback": [
      "\u001b[1;31m---------------------------------------------------------------------------\u001b[0m",
      "\u001b[1;31mTypeError\u001b[0m                                 Traceback (most recent call last)",
      "Cell \u001b[1;32mIn[129], line 1\u001b[0m\n\u001b[1;32m----> 1\u001b[0m \u001b[38;5;28;01mdel\u001b[39;00m mytuple[\u001b[38;5;241m0\u001b[39m]\n",
      "\u001b[1;31mTypeError\u001b[0m: 'tuple' object doesn't support item deletion"
     ]
    }
   ],
   "source": [
    "del mytuple[0] # Tuples are immutable which means we can't DELETE tuple items"
   ]
  },
  {
   "cell_type": "code",
   "execution_count": 130,
   "id": "558b4649-0446-48ec-b315-2da14024b6b5",
   "metadata": {},
   "outputs": [
    {
     "ename": "TypeError",
     "evalue": "'tuple' object does not support item assignment",
     "output_type": "error",
     "traceback": [
      "\u001b[1;31m---------------------------------------------------------------------------\u001b[0m",
      "\u001b[1;31mTypeError\u001b[0m                                 Traceback (most recent call last)",
      "Cell \u001b[1;32mIn[130], line 1\u001b[0m\n\u001b[1;32m----> 1\u001b[0m mytuple[\u001b[38;5;241m0\u001b[39m] \u001b[38;5;241m=\u001b[39m \u001b[38;5;241m1\u001b[39m\n",
      "\u001b[1;31mTypeError\u001b[0m: 'tuple' object does not support item assignment"
     ]
    }
   ],
   "source": [
    "mytuple[0] = 1 # Tuples are immutable which means we can't CHANGE tuple items"
   ]
  },
  {
   "cell_type": "code",
   "execution_count": 131,
   "id": "9aeb4103-9019-4783-a4c6-0c2ada32be27",
   "metadata": {},
   "outputs": [],
   "source": [
    "del mytuple # Deleting entire tuple object is possible"
   ]
  },
  {
   "cell_type": "code",
   "execution_count": 133,
   "id": "350c25f8-29b1-4885-bced-ae345b1c242f",
   "metadata": {},
   "outputs": [
    {
     "ename": "NameError",
     "evalue": "name 'mytuple' is not defined",
     "output_type": "error",
     "traceback": [
      "\u001b[1;31m---------------------------------------------------------------------------\u001b[0m",
      "\u001b[1;31mNameError\u001b[0m                                 Traceback (most recent call last)",
      "Cell \u001b[1;32mIn[133], line 1\u001b[0m\n\u001b[1;32m----> 1\u001b[0m mytuple\n",
      "\u001b[1;31mNameError\u001b[0m: name 'mytuple' is not defined"
     ]
    }
   ],
   "source": [
    "mytuple"
   ]
  },
  {
   "cell_type": "code",
   "execution_count": 134,
   "id": "aba8ba18-cae3-4260-b2e0-9a59193362ab",
   "metadata": {},
   "outputs": [],
   "source": [
    "mytuple = ('one' , 'two' , 'three' , 'four' , 'five' , 'six' , 'seven' , 'eight')"
   ]
  },
  {
   "cell_type": "code",
   "execution_count": 135,
   "id": "b2a7dfc2-51d7-4de5-9f1d-2eca12ad0913",
   "metadata": {},
   "outputs": [
    {
     "data": {
      "text/plain": [
       "('one', 'two', 'three', 'four', 'five', 'six', 'seven', 'eight')"
      ]
     },
     "execution_count": 135,
     "metadata": {},
     "output_type": "execute_result"
    }
   ],
   "source": [
    "mytuple"
   ]
  },
  {
   "cell_type": "code",
   "execution_count": 136,
   "id": "b7334136-3f02-46e4-b14d-957378ab8239",
   "metadata": {},
   "outputs": [
    {
     "name": "stdout",
     "output_type": "stream",
     "text": [
      "one\n",
      "two\n",
      "three\n",
      "four\n",
      "five\n",
      "six\n",
      "seven\n",
      "eight\n"
     ]
    }
   ],
   "source": [
    "for i in mytuple: \n",
    "    print(i)"
   ]
  },
  {
   "cell_type": "code",
   "execution_count": 137,
   "id": "7c7a3d91-4e9a-42f0-ad9e-e8a62c94432c",
   "metadata": {},
   "outputs": [
    {
     "name": "stdout",
     "output_type": "stream",
     "text": [
      "(0, 'one')\n",
      "(1, 'two')\n",
      "(2, 'three')\n",
      "(3, 'four')\n",
      "(4, 'five')\n",
      "(5, 'six')\n",
      "(6, 'seven')\n",
      "(7, 'eight')\n"
     ]
    }
   ],
   "source": [
    "for i in enumerate(mytuple):\n",
    "    print(i)"
   ]
  },
  {
   "cell_type": "code",
   "execution_count": 144,
   "id": "6a5c7ebd-9a55-4e84-9840-109a28c59250",
   "metadata": {},
   "outputs": [],
   "source": [
    "mytuple = ('one' , 'two' , 'three' , 'one' , 'five' , 'six' , 'seven' , 'eight')"
   ]
  },
  {
   "cell_type": "code",
   "execution_count": 142,
   "id": "6a757961-1c55-4a25-a0e3-fc539ebaf949",
   "metadata": {},
   "outputs": [
    {
     "data": {
      "text/plain": [
       "('one', 'two', 'three', 'four', 'five', 'six', 'seven', 'eight')"
      ]
     },
     "execution_count": 142,
     "metadata": {},
     "output_type": "execute_result"
    }
   ],
   "source": [
    "mytuple"
   ]
  },
  {
   "cell_type": "code",
   "execution_count": 145,
   "id": "366c1884-46eb-4965-99fa-d7e0bf09e2cc",
   "metadata": {},
   "outputs": [
    {
     "data": {
      "text/plain": [
       "2"
      ]
     },
     "execution_count": 145,
     "metadata": {},
     "output_type": "execute_result"
    }
   ],
   "source": [
    "mytuple.count('one') # Number of times item \"one\" occurred in the tuple."
   ]
  },
  {
   "cell_type": "code",
   "execution_count": 147,
   "id": "8175292d-c763-4c51-af63-a503b375f099",
   "metadata": {},
   "outputs": [
    {
     "data": {
      "text/plain": [
       "1"
      ]
     },
     "execution_count": 147,
     "metadata": {},
     "output_type": "execute_result"
    }
   ],
   "source": [
    "mytuple.count('two') # Occurence of item 'two' in the tuple"
   ]
  },
  {
   "cell_type": "markdown",
   "id": "71568fe9-cf20-417f-8a98-7d587ffa6394",
   "metadata": {},
   "source": [
    "#Tuple Membership"
   ]
  },
  {
   "cell_type": "code",
   "execution_count": 148,
   "id": "bf1063d1-496e-41d0-a5f7-033468cc800b",
   "metadata": {},
   "outputs": [
    {
     "data": {
      "text/plain": [
       "True"
      ]
     },
     "execution_count": 148,
     "metadata": {},
     "output_type": "execute_result"
    }
   ],
   "source": [
    "'one' in mytuple # Check if 'one' exist in the list"
   ]
  },
  {
   "cell_type": "code",
   "execution_count": 149,
   "id": "78c4664f-ff9c-4aa6-a335-6dd3069ec8ba",
   "metadata": {},
   "outputs": [
    {
     "data": {
      "text/plain": [
       "False"
      ]
     },
     "execution_count": 149,
     "metadata": {},
     "output_type": "execute_result"
    }
   ],
   "source": [
    "'ten' in mytuple # Check if 'ten' exist in the list"
   ]
  },
  {
   "cell_type": "code",
   "execution_count": 162,
   "id": "641f3c6b-9d08-4f79-9a52-2378f01db25a",
   "metadata": {},
   "outputs": [
    {
     "name": "stdout",
     "output_type": "stream",
     "text": [
      "Three is present in the tuple\n"
     ]
    }
   ],
   "source": [
    "    if 'three' in mytuple: \n",
    "       print('Three is present in the tuple')\n",
    "    else:\n",
    "       print('Three is not present in the tuple')"
   ]
  },
  {
   "cell_type": "code",
   "execution_count": 163,
   "id": "cf3f9932-d4d9-475b-874d-9533f936eb22",
   "metadata": {},
   "outputs": [
    {
     "name": "stdout",
     "output_type": "stream",
     "text": [
      "eleven is not present in the tuple\n"
     ]
    }
   ],
   "source": [
    "    if 'eleven' in mytuple: # Check if 'eleven' exist in the list\n",
    "        print('eleven is present in the tuple')\n",
    "    else:\n",
    "        print('eleven is not present in the tuple')"
   ]
  },
  {
   "cell_type": "markdown",
   "id": "d983eda4-e4d6-4484-8b89-94a96249ebd0",
   "metadata": {},
   "source": [
    "#Index Position"
   ]
  },
  {
   "cell_type": "code",
   "execution_count": 164,
   "id": "13692630-2e17-4331-8339-0e40121337cd",
   "metadata": {},
   "outputs": [
    {
     "data": {
      "text/plain": [
       "0"
      ]
     },
     "execution_count": 164,
     "metadata": {},
     "output_type": "execute_result"
    }
   ],
   "source": [
    "mytuple.index('one') # Index of first element equal to 'one'"
   ]
  },
  {
   "cell_type": "code",
   "execution_count": 165,
   "id": "9cd7bf23-685e-4633-a73c-30d56a8003e3",
   "metadata": {},
   "outputs": [
    {
     "data": {
      "text/plain": [
       "4"
      ]
     },
     "execution_count": 165,
     "metadata": {},
     "output_type": "execute_result"
    }
   ],
   "source": [
    "mytuple.index('five') # Index of first element equal to 'five"
   ]
  },
  {
   "cell_type": "markdown",
   "id": "d847e981-dcda-45ca-9a78-924179c0783e",
   "metadata": {},
   "source": [
    "#Sorting"
   ]
  },
  {
   "cell_type": "code",
   "execution_count": 166,
   "id": "0885161f-07a9-4339-b895-9f9ebd64d939",
   "metadata": {},
   "outputs": [],
   "source": [
    "mytuple2 = (43,67,99,12,6,90,67)"
   ]
  },
  {
   "cell_type": "code",
   "execution_count": 167,
   "id": "07a60d4f-f463-497b-92ce-a3b706af2494",
   "metadata": {},
   "outputs": [
    {
     "data": {
      "text/plain": [
       "[6, 12, 43, 67, 67, 90, 99]"
      ]
     },
     "execution_count": 167,
     "metadata": {},
     "output_type": "execute_result"
    }
   ],
   "source": [
    "sorted(mytuple2)"
   ]
  },
  {
   "cell_type": "code",
   "execution_count": 168,
   "id": "f5890dfc-6a47-4ac8-b181-9033bd47dcf5",
   "metadata": {},
   "outputs": [
    {
     "data": {
      "text/plain": [
       "[99, 90, 67, 67, 43, 12, 6]"
      ]
     },
     "execution_count": 168,
     "metadata": {},
     "output_type": "execute_result"
    }
   ],
   "source": [
    "sorted(mytuple2, reverse=True) # Sort in descending order"
   ]
  },
  {
   "cell_type": "markdown",
   "id": "e21ab901-e9e8-4078-adb1-78d7982b2f61",
   "metadata": {},
   "source": [
    "#Sets\n",
    "1) Unordered & Unindexed collection of items.\n",
    "2) Set elements are unique. Duplicate elements are not allowed.\n",
    "3) Set elements are immutable (cannot be changed).\n",
    "4) Set itself is mutable. We can add or remove items from it."
   ]
  },
  {
   "cell_type": "code",
   "execution_count": 169,
   "id": "7c8ae0d5-af44-4d3d-83c5-e7e6b2d52f45",
   "metadata": {},
   "outputs": [
    {
     "data": {
      "text/plain": [
       "{1, 2, 3, 4, 5}"
      ]
     },
     "execution_count": 169,
     "metadata": {},
     "output_type": "execute_result"
    }
   ],
   "source": [
    "myset = {1,2,3,4,5} # Set of numbers\n",
    "myset"
   ]
  },
  {
   "cell_type": "code",
   "execution_count": 170,
   "id": "68613fa9-603e-440a-9d38-3170b4ae2ded",
   "metadata": {},
   "outputs": [
    {
     "data": {
      "text/plain": [
       "5"
      ]
     },
     "execution_count": 170,
     "metadata": {},
     "output_type": "execute_result"
    }
   ],
   "source": [
    "len(myset) #Length of the set"
   ]
  },
  {
   "cell_type": "code",
   "execution_count": 171,
   "id": "c7eec7f8-e390-4d9a-ad6b-d0482a433b5f",
   "metadata": {},
   "outputs": [
    {
     "data": {
      "text/plain": [
       "{1, 2, 3, 4, 5}"
      ]
     },
     "execution_count": 171,
     "metadata": {},
     "output_type": "execute_result"
    }
   ],
   "source": [
    "my_set = {1,1,2,2,3,4,5,5}\n",
    "my_set # Duplicate elements are not allowed."
   ]
  },
  {
   "cell_type": "code",
   "execution_count": 172,
   "id": "d62fcb4a-3e8e-4d62-953b-38e80effd9b7",
   "metadata": {},
   "outputs": [
    {
     "data": {
      "text/plain": [
       "{1.79, 2.08, 3.99, 4.56, 5.45}"
      ]
     },
     "execution_count": 172,
     "metadata": {},
     "output_type": "execute_result"
    }
   ],
   "source": [
    "myset1 = {1.79,2.08,3.99,4.56,5.45} # Set of float numbers\n",
    "myset1"
   ]
  },
  {
   "cell_type": "code",
   "execution_count": 173,
   "id": "c38cfec4-66e8-4761-8d8d-de03d6cf7601",
   "metadata": {},
   "outputs": [
    {
     "data": {
      "text/plain": [
       "{'Asif', 'John', 'Tyrion'}"
      ]
     },
     "execution_count": 173,
     "metadata": {},
     "output_type": "execute_result"
    }
   ],
   "source": [
    "myset2 = {'Asif' , 'John' , 'Tyrion'} # Set of Strings\n",
    "myset2"
   ]
  },
  {
   "cell_type": "code",
   "execution_count": 174,
   "id": "beb81fbe-ac14-413f-836e-6101c20ebc2a",
   "metadata": {},
   "outputs": [
    {
     "data": {
      "text/plain": [
       "{(11, 22, 32), 10, 20, 'Hola'}"
      ]
     },
     "execution_count": 174,
     "metadata": {},
     "output_type": "execute_result"
    }
   ],
   "source": [
    "myset3 = {10,20, \"Hola\", (11, 22, 32)} # Mixed datatypes\n",
    "myset3"
   ]
  },
  {
   "cell_type": "code",
   "execution_count": 175,
   "id": "3aee3bca-2912-4df0-b8fe-c57b10f5a259",
   "metadata": {},
   "outputs": [
    {
     "ename": "TypeError",
     "evalue": "unhashable type: 'list'",
     "output_type": "error",
     "traceback": [
      "\u001b[1;31m---------------------------------------------------------------------------\u001b[0m",
      "\u001b[1;31mTypeError\u001b[0m                                 Traceback (most recent call last)",
      "Cell \u001b[1;32mIn[175], line 1\u001b[0m\n\u001b[1;32m----> 1\u001b[0m myset3 \u001b[38;5;241m=\u001b[39m {\u001b[38;5;241m10\u001b[39m,\u001b[38;5;241m20\u001b[39m, \u001b[38;5;124m\"\u001b[39m\u001b[38;5;124mHola\u001b[39m\u001b[38;5;124m\"\u001b[39m, [\u001b[38;5;241m11\u001b[39m, \u001b[38;5;241m22\u001b[39m, \u001b[38;5;241m32\u001b[39m]} \u001b[38;5;66;03m# set doesn't allow mutable items like li\u001b[39;00m\n\u001b[0;32m      2\u001b[0m myset3\n",
      "\u001b[1;31mTypeError\u001b[0m: unhashable type: 'list'"
     ]
    }
   ],
   "source": [
    "myset3 = {10,20, \"Hola\", [11, 22, 32]} # set doesn't allow mutable items like li\n",
    "myset3"
   ]
  },
  {
   "cell_type": "code",
   "execution_count": 176,
   "id": "117cf06b-c50e-435c-abb0-385d10cfc943",
   "metadata": {},
   "outputs": [
    {
     "name": "stdout",
     "output_type": "stream",
     "text": [
      "<class 'set'>\n"
     ]
    }
   ],
   "source": [
    "myset4 = set() # Create an empty set\n",
    "print(type(myset4))"
   ]
  },
  {
   "cell_type": "markdown",
   "id": "7c77e61e-bd76-4fa9-a917-42ebb484ac16",
   "metadata": {},
   "source": [
    "#Add & Remove Items"
   ]
  },
  {
   "cell_type": "code",
   "execution_count": 178,
   "id": "2f0fac69-85b5-4278-a17b-76a98f22449d",
   "metadata": {},
   "outputs": [
    {
     "data": {
      "text/plain": [
       "{'eight', 'five', 'four', 'one', 'seven', 'six', 'three', 'two'}"
      ]
     },
     "execution_count": 178,
     "metadata": {},
     "output_type": "execute_result"
    }
   ],
   "source": [
    "myset"
   ]
  },
  {
   "cell_type": "code",
   "execution_count": 179,
   "id": "4f164535-c0e6-4e04-b95c-af296583e90a",
   "metadata": {},
   "outputs": [
    {
     "data": {
      "text/plain": [
       "{'NINE', 'eight', 'five', 'four', 'one', 'seven', 'six', 'three', 'two'}"
      ]
     },
     "execution_count": 179,
     "metadata": {},
     "output_type": "execute_result"
    }
   ],
   "source": [
    "myset.add('NINE') # Add item to a set using add() method\n",
    "myset"
   ]
  },
  {
   "cell_type": "code",
   "execution_count": 180,
   "id": "05fab052-4f23-4f81-be47-38d2a1c8b0a3",
   "metadata": {},
   "outputs": [
    {
     "data": {
      "text/plain": [
       "{'ELEVEN',\n",
       " 'NINE',\n",
       " 'TEN',\n",
       " 'TWELVE',\n",
       " 'eight',\n",
       " 'five',\n",
       " 'four',\n",
       " 'one',\n",
       " 'seven',\n",
       " 'six',\n",
       " 'three',\n",
       " 'two'}"
      ]
     },
     "execution_count": 180,
     "metadata": {},
     "output_type": "execute_result"
    }
   ],
   "source": [
    "myset.update(['TEN' , 'ELEVEN' , 'TWELVE']) # Add multiple item to a set using\n",
    "myset"
   ]
  },
  {
   "cell_type": "code",
   "execution_count": 181,
   "id": "ffeb138e-eb47-45d1-af28-86684a164f30",
   "metadata": {},
   "outputs": [
    {
     "data": {
      "text/plain": [
       "{'ELEVEN',\n",
       " 'TEN',\n",
       " 'TWELVE',\n",
       " 'eight',\n",
       " 'five',\n",
       " 'four',\n",
       " 'one',\n",
       " 'seven',\n",
       " 'six',\n",
       " 'three',\n",
       " 'two'}"
      ]
     },
     "execution_count": 181,
     "metadata": {},
     "output_type": "execute_result"
    }
   ],
   "source": [
    "myset.remove('NINE') # remove item in a set using remove() method\n",
    "myset"
   ]
  },
  {
   "cell_type": "code",
   "execution_count": 182,
   "id": "85ddb9e6-306d-41c5-9caa-f026b6369134",
   "metadata": {},
   "outputs": [
    {
     "data": {
      "text/plain": [
       "{'ELEVEN',\n",
       " 'TWELVE',\n",
       " 'eight',\n",
       " 'five',\n",
       " 'four',\n",
       " 'one',\n",
       " 'seven',\n",
       " 'six',\n",
       " 'three',\n",
       " 'two'}"
      ]
     },
     "execution_count": 182,
     "metadata": {},
     "output_type": "execute_result"
    }
   ],
   "source": [
    "myset.discard('TEN') # remove item from a set using discard() method\n",
    "myset"
   ]
  },
  {
   "cell_type": "code",
   "execution_count": 183,
   "id": "1b8d9d92-ef8b-4ddd-bcdb-ee54331be8b2",
   "metadata": {},
   "outputs": [
    {
     "data": {
      "text/plain": [
       "set()"
      ]
     },
     "execution_count": 183,
     "metadata": {},
     "output_type": "execute_result"
    }
   ],
   "source": [
    "myset.clear() # Delete all items in a set\n",
    "myset"
   ]
  },
  {
   "cell_type": "markdown",
   "id": "ea35a0d2-74d1-4a90-9d1d-915e0d821463",
   "metadata": {},
   "source": [
    "# Copy Set"
   ]
  },
  {
   "cell_type": "code",
   "execution_count": 184,
   "id": "83ffd113-61ce-4130-a2d8-52773dd4a887",
   "metadata": {},
   "outputs": [
    {
     "data": {
      "text/plain": [
       "{'eight', 'five', 'four', 'one', 'seven', 'six', 'three', 'two'}"
      ]
     },
     "execution_count": 184,
     "metadata": {},
     "output_type": "execute_result"
    }
   ],
   "source": [
    "myset = {'one', 'two', 'three', 'four', 'five', 'six', 'seven', 'eight'} \n",
    "myset"
   ]
  },
  {
   "cell_type": "code",
   "execution_count": 185,
   "id": "a7b8818c-5751-4bb8-8ace-959a7f193ce9",
   "metadata": {},
   "outputs": [
    {
     "data": {
      "text/plain": [
       "{'eight', 'five', 'four', 'one', 'seven', 'six', 'three', 'two'}"
      ]
     },
     "execution_count": 185,
     "metadata": {},
     "output_type": "execute_result"
    }
   ],
   "source": [
    "myset1 = myset # Create a new reference \"myset1\"\n",
    "myset1"
   ]
  },
  {
   "cell_type": "code",
   "execution_count": 186,
   "id": "8398247f-f7ff-4a6e-884e-6d61830d8872",
   "metadata": {},
   "outputs": [
    {
     "data": {
      "text/plain": [
       "(3068159102304, 3068159102304)"
      ]
     },
     "execution_count": 186,
     "metadata": {},
     "output_type": "execute_result"
    }
   ],
   "source": [
    "id(myset) , id(myset1) # The address of both myset & myset1 will be the same as"
   ]
  },
  {
   "cell_type": "code",
   "execution_count": 187,
   "id": "44456c58-020a-45d5-a2bd-824b64912e58",
   "metadata": {},
   "outputs": [
    {
     "data": {
      "text/plain": [
       "{'eight', 'five', 'four', 'one', 'seven', 'six', 'three', 'two'}"
      ]
     },
     "execution_count": 187,
     "metadata": {},
     "output_type": "execute_result"
    }
   ],
   "source": [
    "my_set = myset.copy() # Create a copy of the list\n",
    "my_set"
   ]
  },
  {
   "cell_type": "code",
   "execution_count": 188,
   "id": "e46bdcdf-9622-4711-9498-743e44852595",
   "metadata": {},
   "outputs": [
    {
     "data": {
      "text/plain": [
       "3068159108352"
      ]
     },
     "execution_count": 188,
     "metadata": {},
     "output_type": "execute_result"
    }
   ],
   "source": [
    "id(my_set) # The address of my_set will be different from myset because my_set i"
   ]
  },
  {
   "cell_type": "code",
   "execution_count": 189,
   "id": "a6a57bd1-6271-4eb1-aca5-8447a0ccb4cb",
   "metadata": {},
   "outputs": [
    {
     "data": {
      "text/plain": [
       "{'eight', 'five', 'four', 'nine', 'one', 'seven', 'six', 'three', 'two'}"
      ]
     },
     "execution_count": 189,
     "metadata": {},
     "output_type": "execute_result"
    }
   ],
   "source": [
    "myset.add('nine') \n",
    "myset"
   ]
  },
  {
   "cell_type": "code",
   "execution_count": 190,
   "id": "e2d2dde3-7342-435d-b081-773783373af1",
   "metadata": {},
   "outputs": [
    {
     "data": {
      "text/plain": [
       "{'eight', 'five', 'four', 'nine', 'one', 'seven', 'six', 'three', 'two'}"
      ]
     },
     "execution_count": 190,
     "metadata": {},
     "output_type": "execute_result"
    }
   ],
   "source": [
    "myset1 # myset1 will be also impacted as it is pointing to the same Set"
   ]
  },
  {
   "cell_type": "code",
   "execution_count": 192,
   "id": "d26a6634-a022-491a-a76c-5c92d769c2d8",
   "metadata": {},
   "outputs": [
    {
     "data": {
      "text/plain": [
       "{'eight', 'five', 'four', 'one', 'seven', 'six', 'three', 'two'}"
      ]
     },
     "execution_count": 192,
     "metadata": {},
     "output_type": "execute_result"
    }
   ],
   "source": [
    "my_set # Copy of the set won't be impacted due to changes made on the original S"
   ]
  },
  {
   "cell_type": "markdown",
   "id": "c8a27375-de34-4855-96c7-0c390207fadb",
   "metadata": {},
   "source": [
    "# Other Builtin functions"
   ]
  },
  {
   "cell_type": "code",
   "execution_count": 196,
   "id": "f3071036-6cbf-4e72-9fb7-5ce5e1935390",
   "metadata": {},
   "outputs": [
    {
     "data": {
      "text/plain": [
       "{1, 2, 3, 4, 10}"
      ]
     },
     "execution_count": 196,
     "metadata": {},
     "output_type": "execute_result"
    }
   ],
   "source": [
    "A = {1, 2, 3, 4, 10}\n",
    "A"
   ]
  },
  {
   "cell_type": "code",
   "execution_count": 197,
   "id": "ce33810a-7ba1-4b3b-8008-d301ebf1b210",
   "metadata": {},
   "outputs": [
    {
     "data": {
      "text/plain": [
       "20"
      ]
     },
     "execution_count": 197,
     "metadata": {},
     "output_type": "execute_result"
    }
   ],
   "source": [
    "sum(A)"
   ]
  },
  {
   "cell_type": "code",
   "execution_count": 198,
   "id": "1a49eec2-1906-4dcb-97de-a76f5724ff51",
   "metadata": {},
   "outputs": [
    {
     "data": {
      "text/plain": [
       "10"
      ]
     },
     "execution_count": 198,
     "metadata": {},
     "output_type": "execute_result"
    }
   ],
   "source": [
    "max(A)"
   ]
  },
  {
   "cell_type": "code",
   "execution_count": 199,
   "id": "89ede757-659b-4c69-b100-598be7498146",
   "metadata": {},
   "outputs": [
    {
     "data": {
      "text/plain": [
       "1"
      ]
     },
     "execution_count": 199,
     "metadata": {},
     "output_type": "execute_result"
    }
   ],
   "source": [
    "min(A)"
   ]
  },
  {
   "cell_type": "code",
   "execution_count": 200,
   "id": "2e591f48-8ae6-4950-8f10-dd7a77e3b853",
   "metadata": {},
   "outputs": [
    {
     "data": {
      "text/plain": [
       "5"
      ]
     },
     "execution_count": 200,
     "metadata": {},
     "output_type": "execute_result"
    }
   ],
   "source": [
    "len(A)"
   ]
  },
  {
   "cell_type": "code",
   "execution_count": 201,
   "id": "c5f2d2de-4d63-48f8-b656-355d7083e2b9",
   "metadata": {},
   "outputs": [
    {
     "data": {
      "text/plain": [
       "[(0, 1), (1, 2), (2, 3), (3, 4), (4, 10)]"
      ]
     },
     "execution_count": 201,
     "metadata": {},
     "output_type": "execute_result"
    }
   ],
   "source": [
    "list(enumerate(A))"
   ]
  },
  {
   "cell_type": "code",
   "execution_count": 202,
   "id": "0863b14e-8bd9-4818-92f2-58fdb214f985",
   "metadata": {},
   "outputs": [
    {
     "data": {
      "text/plain": [
       "[10, 4, 3, 2, 1]"
      ]
     },
     "execution_count": 202,
     "metadata": {},
     "output_type": "execute_result"
    }
   ],
   "source": [
    "D= sorted(A,reverse=True) \n",
    "D"
   ]
  },
  {
   "cell_type": "code",
   "execution_count": 203,
   "id": "131c31bb-56f3-4b8f-81cc-9d3cfd952cce",
   "metadata": {},
   "outputs": [
    {
     "data": {
      "text/plain": [
       "[1, 2, 3, 4, 10]"
      ]
     },
     "execution_count": 203,
     "metadata": {},
     "output_type": "execute_result"
    }
   ],
   "source": [
    "sorted(D)"
   ]
  },
  {
   "cell_type": "code",
   "execution_count": null,
   "id": "b02e9fd3-0431-42fe-abc3-1e0013a8770d",
   "metadata": {},
   "outputs": [],
   "source": []
  },
  {
   "cell_type": "code",
   "execution_count": null,
   "id": "70c5294e-0229-4c42-92b7-18cd99f74dd8",
   "metadata": {},
   "outputs": [],
   "source": []
  },
  {
   "cell_type": "code",
   "execution_count": null,
   "id": "57e3601d-63f5-42d3-919f-65ff710aea8a",
   "metadata": {},
   "outputs": [],
   "source": []
  },
  {
   "cell_type": "code",
   "execution_count": null,
   "id": "98dcf649-d3fc-47e2-bfae-d01be2924a47",
   "metadata": {},
   "outputs": [],
   "source": []
  },
  {
   "cell_type": "code",
   "execution_count": null,
   "id": "1c0f873f-1a1e-4de9-8c59-8681508ae188",
   "metadata": {},
   "outputs": [],
   "source": []
  },
  {
   "cell_type": "code",
   "execution_count": null,
   "id": "96375559-ae5a-4668-90dd-b0f5d6818cd1",
   "metadata": {},
   "outputs": [],
   "source": []
  },
  {
   "cell_type": "code",
   "execution_count": null,
   "id": "202e1b6a-0cd5-4627-9c01-a371f9ec1c15",
   "metadata": {},
   "outputs": [],
   "source": []
  },
  {
   "cell_type": "code",
   "execution_count": null,
   "id": "51b9c74b-5476-4c5a-942e-90d48959c42e",
   "metadata": {},
   "outputs": [],
   "source": []
  },
  {
   "cell_type": "code",
   "execution_count": null,
   "id": "a2bbdd01-cad4-4e7f-84de-488b8dfd349d",
   "metadata": {},
   "outputs": [],
   "source": []
  },
  {
   "cell_type": "code",
   "execution_count": null,
   "id": "9c1f1505-7be0-4b99-8d03-0c6a4c9fed46",
   "metadata": {},
   "outputs": [],
   "source": []
  },
  {
   "cell_type": "code",
   "execution_count": null,
   "id": "1f939caa-414c-43db-ad2e-73044ff5948b",
   "metadata": {},
   "outputs": [],
   "source": []
  },
  {
   "cell_type": "code",
   "execution_count": null,
   "id": "66973dab-fc59-4d55-8745-28ff75bd586d",
   "metadata": {},
   "outputs": [],
   "source": []
  },
  {
   "cell_type": "code",
   "execution_count": null,
   "id": "53992675-be79-46bd-b1d8-23aac948db38",
   "metadata": {},
   "outputs": [],
   "source": []
  },
  {
   "cell_type": "code",
   "execution_count": null,
   "id": "bff7f4fa-6cdb-4099-afaf-27d37dd558b6",
   "metadata": {},
   "outputs": [],
   "source": []
  }
 ],
 "metadata": {
  "kernelspec": {
   "display_name": "Python [conda env:base] *",
   "language": "python",
   "name": "conda-base-py"
  },
  "language_info": {
   "codemirror_mode": {
    "name": "ipython",
    "version": 3
   },
   "file_extension": ".py",
   "mimetype": "text/x-python",
   "name": "python",
   "nbconvert_exporter": "python",
   "pygments_lexer": "ipython3",
   "version": "3.13.5"
  }
 },
 "nbformat": 4,
 "nbformat_minor": 5
}
