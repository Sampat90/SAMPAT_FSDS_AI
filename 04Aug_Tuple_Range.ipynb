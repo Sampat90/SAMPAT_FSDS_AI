{
 "cells": [
  {
   "cell_type": "code",
   "execution_count": 2,
   "id": "8e981d77-10f6-4e00-afb6-610526f6fc87",
   "metadata": {},
   "outputs": [
    {
     "data": {
      "text/plain": [
       "()"
      ]
     },
     "execution_count": 2,
     "metadata": {},
     "output_type": "execute_result"
    }
   ],
   "source": [
    "t=()\n",
    "t"
   ]
  },
  {
   "cell_type": "code",
   "execution_count": 3,
   "id": "acadc366-baad-4391-8c16-511ddbba0b6e",
   "metadata": {},
   "outputs": [
    {
     "data": {
      "text/plain": [
       "tuple"
      ]
     },
     "execution_count": 3,
     "metadata": {},
     "output_type": "execute_result"
    }
   ],
   "source": [
    "type(t)"
   ]
  },
  {
   "cell_type": "code",
   "execution_count": 8,
   "id": "78298229-c03b-404d-9830-3c8fd4cff363",
   "metadata": {},
   "outputs": [
    {
     "data": {
      "text/plain": [
       "(10, 20, 30)"
      ]
     },
     "execution_count": 8,
     "metadata": {},
     "output_type": "execute_result"
    }
   ],
   "source": [
    "t=(10,20,30) # more dan 1 arg -- data structure\n",
    "t"
   ]
  },
  {
   "cell_type": "code",
   "execution_count": 7,
   "id": "5581762c-c539-427e-a040-e49f6b8c26aa",
   "metadata": {},
   "outputs": [
    {
     "data": {
      "text/plain": [
       "3"
      ]
     },
     "execution_count": 7,
     "metadata": {},
     "output_type": "execute_result"
    }
   ],
   "source": [
    "len(t)"
   ]
  },
  {
   "cell_type": "code",
   "execution_count": 12,
   "id": "96635594-340d-4f55-a55d-fb08569d4257",
   "metadata": {},
   "outputs": [
    {
     "data": {
      "text/plain": [
       "(10, 2.3, 'sam', (1+2j), False, 10, 20)"
      ]
     },
     "execution_count": 12,
     "metadata": {},
     "output_type": "execute_result"
    }
   ],
   "source": [
    "t1=(10,2.3,'sam',1+2j,False,10,20)\n",
    "t1"
   ]
  },
  {
   "cell_type": "code",
   "execution_count": 13,
   "id": "199dcea3-c9c2-4835-8a49-ba0559f9ceb6",
   "metadata": {},
   "outputs": [
    {
     "name": "stdout",
     "output_type": "stream",
     "text": [
      "(10, 20, 30)\n",
      "(10, 2.3, 'sam', (1+2j), False, 10, 20)\n"
     ]
    }
   ],
   "source": [
    "print(t)\n",
    "print(t1)"
   ]
  },
  {
   "cell_type": "code",
   "execution_count": 14,
   "id": "a43b2e48-0329-4b2b-bab8-49a33761abe8",
   "metadata": {},
   "outputs": [
    {
     "data": {
      "text/plain": [
       "1"
      ]
     },
     "execution_count": 14,
     "metadata": {},
     "output_type": "execute_result"
    }
   ],
   "source": [
    "t.count(10)"
   ]
  },
  {
   "cell_type": "code",
   "execution_count": 15,
   "id": "96c70671-aa07-4408-bc7a-7e57e4e2bad2",
   "metadata": {},
   "outputs": [
    {
     "data": {
      "text/plain": [
       "2"
      ]
     },
     "execution_count": 15,
     "metadata": {},
     "output_type": "execute_result"
    }
   ],
   "source": [
    "t1.count(10)"
   ]
  },
  {
   "cell_type": "code",
   "execution_count": 16,
   "id": "c12deda0-0f7e-49dd-884c-427cfc00b0f7",
   "metadata": {},
   "outputs": [
    {
     "data": {
      "text/plain": [
       "1"
      ]
     },
     "execution_count": 16,
     "metadata": {},
     "output_type": "execute_result"
    }
   ],
   "source": [
    "t1.index(2.3)"
   ]
  },
  {
   "cell_type": "code",
   "execution_count": 20,
   "id": "6fc1d9a6-8731-4d34-a8b4-71856d79c835",
   "metadata": {},
   "outputs": [
    {
     "data": {
      "text/plain": [
       "4"
      ]
     },
     "execution_count": 20,
     "metadata": {},
     "output_type": "execute_result"
    }
   ],
   "source": [
    "t1.index(False)"
   ]
  },
  {
   "cell_type": "code",
   "execution_count": 21,
   "id": "6a98127a-a7d2-4f88-9ea3-9b3ef8b5fb60",
   "metadata": {},
   "outputs": [
    {
     "ename": "TypeError",
     "evalue": "'tuple' object does not support item assignment",
     "output_type": "error",
     "traceback": [
      "\u001b[1;31m---------------------------------------------------------------------------\u001b[0m",
      "\u001b[1;31mTypeError\u001b[0m                                 Traceback (most recent call last)",
      "Cell \u001b[1;32mIn[21], line 1\u001b[0m\n\u001b[1;32m----> 1\u001b[0m t[\u001b[38;5;241m0\u001b[39m]\u001b[38;5;241m=\u001b[39m\u001b[38;5;241m100\u001b[39m\n",
      "\u001b[1;31mTypeError\u001b[0m: 'tuple' object does not support item assignment"
     ]
    }
   ],
   "source": [
    "t[0]=100 # tuple is immutable"
   ]
  },
  {
   "cell_type": "code",
   "execution_count": 23,
   "id": "8c4c98e8-5d37-4ef2-9ad5-16bcf115870a",
   "metadata": {},
   "outputs": [
    {
     "data": {
      "text/plain": [
       "(10, 20, 30)"
      ]
     },
     "execution_count": 23,
     "metadata": {},
     "output_type": "execute_result"
    }
   ],
   "source": [
    "t"
   ]
  },
  {
   "cell_type": "code",
   "execution_count": 26,
   "id": "c6719cbe-1b9a-4562-912a-796b6b8c70ef",
   "metadata": {},
   "outputs": [
    {
     "data": {
      "text/plain": [
       "(10, 20, 30, 10, 20, 30, 10, 20, 30)"
      ]
     },
     "execution_count": 26,
     "metadata": {},
     "output_type": "execute_result"
    }
   ],
   "source": [
    "t2 =t * 3\n",
    "t2"
   ]
  },
  {
   "cell_type": "code",
   "execution_count": 27,
   "id": "d1665ac0-f352-4361-a763-2238dcb022b7",
   "metadata": {},
   "outputs": [
    {
     "data": {
      "text/plain": [
       "(10, 2.3, 'sam', (1+2j), False, 10, 20)"
      ]
     },
     "execution_count": 27,
     "metadata": {},
     "output_type": "execute_result"
    }
   ],
   "source": [
    "t1"
   ]
  },
  {
   "cell_type": "code",
   "execution_count": 28,
   "id": "ac06f8fc-bb44-4d5e-9525-37127d0aa3a6",
   "metadata": {},
   "outputs": [
    {
     "data": {
      "text/plain": [
       "(2.3, 'sam', (1+2j), False, 10)"
      ]
     },
     "execution_count": 28,
     "metadata": {},
     "output_type": "execute_result"
    }
   ],
   "source": [
    "t1[1:6]"
   ]
  },
  {
   "cell_type": "code",
   "execution_count": 64,
   "id": "d708b3d0-0d3b-4d66-b5bc-e57434b9e193",
   "metadata": {},
   "outputs": [
    {
     "data": {
      "text/plain": [
       "(10, 20, 30, 10, 20, 30, 10, 20, 30)"
      ]
     },
     "execution_count": 64,
     "metadata": {},
     "output_type": "execute_result"
    }
   ],
   "source": [
    "t2"
   ]
  },
  {
   "cell_type": "code",
   "execution_count": 29,
   "id": "25a14d95-9d96-45fd-805c-189255cf4826",
   "metadata": {},
   "outputs": [
    {
     "data": {
      "text/plain": [
       "(20, 20)"
      ]
     },
     "execution_count": 29,
     "metadata": {},
     "output_type": "execute_result"
    }
   ],
   "source": [
    "t2[1:6:3]"
   ]
  },
  {
   "cell_type": "code",
   "execution_count": 67,
   "id": "776e6f75-b212-424c-bb89-a067e16a4ca2",
   "metadata": {},
   "outputs": [
    {
     "data": {
      "text/plain": [
       "(1, 2, 3, 4, 5, 6, 7, 8, 9, 10)"
      ]
     },
     "execution_count": 67,
     "metadata": {},
     "output_type": "execute_result"
    }
   ],
   "source": [
    "s=(1,2,3,4,5,6,7,8,9,10)\n",
    "s"
   ]
  },
  {
   "cell_type": "code",
   "execution_count": 78,
   "id": "9e5bdb1e-f7ca-43f4-b798-bb0ae5bcc1fb",
   "metadata": {},
   "outputs": [
    {
     "data": {
      "text/plain": [
       "(2, 5)"
      ]
     },
     "execution_count": 78,
     "metadata": {},
     "output_type": "execute_result"
    }
   ],
   "source": [
    "s[1:5:3]"
   ]
  },
  {
   "cell_type": "code",
   "execution_count": 30,
   "id": "d35e62e7-44a1-4dc9-9549-c8944717058c",
   "metadata": {},
   "outputs": [
    {
     "data": {
      "text/plain": [
       "(10, 20, 30, 10, 20, 30, 10, 20, 30)"
      ]
     },
     "execution_count": 30,
     "metadata": {},
     "output_type": "execute_result"
    }
   ],
   "source": [
    "t2"
   ]
  },
  {
   "cell_type": "code",
   "execution_count": 31,
   "id": "e1e82953-0cd9-402e-ae9b-7f15ffcaeb09",
   "metadata": {},
   "outputs": [
    {
     "data": {
      "text/plain": [
       "(20, 20)"
      ]
     },
     "execution_count": 31,
     "metadata": {},
     "output_type": "execute_result"
    }
   ],
   "source": [
    "t2[1:6:3]"
   ]
  },
  {
   "cell_type": "code",
   "execution_count": 32,
   "id": "471703ad-1a9c-42da-8beb-238d83d69930",
   "metadata": {},
   "outputs": [
    {
     "data": {
      "text/plain": [
       "(20,)"
      ]
     },
     "execution_count": 32,
     "metadata": {},
     "output_type": "execute_result"
    }
   ],
   "source": [
    "t2[1:6:5]"
   ]
  },
  {
   "cell_type": "code",
   "execution_count": 33,
   "id": "bccb071f-bb94-4306-b217-885f31df9fe9",
   "metadata": {},
   "outputs": [
    {
     "data": {
      "text/plain": [
       "(10, 2.3, 'sam', (1+2j), False, 10, 20)"
      ]
     },
     "execution_count": 33,
     "metadata": {},
     "output_type": "execute_result"
    }
   ],
   "source": [
    "t1"
   ]
  },
  {
   "cell_type": "code",
   "execution_count": 36,
   "id": "06d8c0a5-41ec-4b14-b1da-557de0c73df4",
   "metadata": {},
   "outputs": [
    {
     "data": {
      "text/plain": [
       "(20, 10, False, (1+2j), 'sam', 2.3, 10)"
      ]
     },
     "execution_count": 36,
     "metadata": {},
     "output_type": "execute_result"
    }
   ],
   "source": [
    "t1[::-1]\n",
    "# reverse the entire value"
   ]
  },
  {
   "cell_type": "code",
   "execution_count": 37,
   "id": "fe6c8931-12de-42a9-ad65-d2a23eaa8e93",
   "metadata": {},
   "outputs": [
    {
     "data": {
      "text/plain": [
       "(10, 20, 30, 10, 20, 30, 10, 20, 30)"
      ]
     },
     "execution_count": 37,
     "metadata": {},
     "output_type": "execute_result"
    }
   ],
   "source": [
    "t2"
   ]
  },
  {
   "cell_type": "code",
   "execution_count": 38,
   "id": "c99827a4-05f5-4dea-a5ea-e3b854857741",
   "metadata": {},
   "outputs": [
    {
     "data": {
      "text/plain": [
       "(30, 10, 20, 30, 10)"
      ]
     },
     "execution_count": 38,
     "metadata": {},
     "output_type": "execute_result"
    }
   ],
   "source": [
    "t2[::-2]"
   ]
  },
  {
   "cell_type": "code",
   "execution_count": 39,
   "id": "19bdc9ca-61c1-44a0-bf4c-b41e39fb0704",
   "metadata": {},
   "outputs": [
    {
     "data": {
      "text/plain": [
       "(30, 30, 30)"
      ]
     },
     "execution_count": 39,
     "metadata": {},
     "output_type": "execute_result"
    }
   ],
   "source": [
    "t2[::-3]"
   ]
  },
  {
   "cell_type": "code",
   "execution_count": 40,
   "id": "b8246909-36cd-4f5a-9344-c550e86f8eb4",
   "metadata": {},
   "outputs": [
    {
     "data": {
      "text/plain": [
       "(1, 2, 3, 4, 5, 6, 7, 8)"
      ]
     },
     "execution_count": 40,
     "metadata": {},
     "output_type": "execute_result"
    }
   ],
   "source": [
    "t=(1,2,3,4,5,6,7,8)\n",
    "t"
   ]
  },
  {
   "cell_type": "code",
   "execution_count": 41,
   "id": "b5840bd8-b126-4621-b9c1-db92096ba625",
   "metadata": {},
   "outputs": [
    {
     "data": {
      "text/plain": [
       "(2, 3, 4)"
      ]
     },
     "execution_count": 41,
     "metadata": {},
     "output_type": "execute_result"
    }
   ],
   "source": [
    "t[1:4]"
   ]
  },
  {
   "cell_type": "code",
   "execution_count": 42,
   "id": "15c95c4d-fe32-46fb-9ccc-e88dd890f891",
   "metadata": {},
   "outputs": [
    {
     "data": {
      "text/plain": [
       "(2, 3, 4, 5, 6, 7, 8)"
      ]
     },
     "execution_count": 42,
     "metadata": {},
     "output_type": "execute_result"
    }
   ],
   "source": [
    "t[1:]"
   ]
  },
  {
   "cell_type": "code",
   "execution_count": 44,
   "id": "e8893392-dfc8-4d66-8c65-06c880d2441e",
   "metadata": {},
   "outputs": [
    {
     "data": {
      "text/plain": [
       "(1, 2, 3, 4, 5)"
      ]
     },
     "execution_count": 44,
     "metadata": {},
     "output_type": "execute_result"
    }
   ],
   "source": [
    "t[:5]"
   ]
  },
  {
   "cell_type": "code",
   "execution_count": 45,
   "id": "77ea4308-fed2-4b29-a774-153fd6f506c3",
   "metadata": {},
   "outputs": [
    {
     "data": {
      "text/plain": [
       "(2, 5)"
      ]
     },
     "execution_count": 45,
     "metadata": {},
     "output_type": "execute_result"
    }
   ],
   "source": [
    "t[1:7:3]"
   ]
  },
  {
   "cell_type": "code",
   "execution_count": 46,
   "id": "123c6ad9-3b7d-4732-88ef-b100714c78ec",
   "metadata": {},
   "outputs": [
    {
     "data": {
      "text/plain": [
       "(8, 7, 6, 5, 4, 3, 2, 1)"
      ]
     },
     "execution_count": 46,
     "metadata": {},
     "output_type": "execute_result"
    }
   ],
   "source": [
    "t[::-1]"
   ]
  },
  {
   "cell_type": "code",
   "execution_count": 47,
   "id": "5079aa35-2861-4ca3-a917-56162214ec95",
   "metadata": {},
   "outputs": [
    {
     "data": {
      "text/plain": [
       "(1, 2, 3, 4, 5, 6, 7, 8)"
      ]
     },
     "execution_count": 47,
     "metadata": {},
     "output_type": "execute_result"
    }
   ],
   "source": [
    "t[::1]"
   ]
  },
  {
   "cell_type": "code",
   "execution_count": 48,
   "id": "8c6bfa0e-ea86-465a-ba97-72794fe93202",
   "metadata": {},
   "outputs": [
    {
     "data": {
      "text/plain": [
       "(8, 5, 2)"
      ]
     },
     "execution_count": 48,
     "metadata": {},
     "output_type": "execute_result"
    }
   ],
   "source": [
    "t[::-3]"
   ]
  },
  {
   "cell_type": "code",
   "execution_count": 80,
   "id": "9f2a3e3e-4485-4da9-b609-844fc71bb27d",
   "metadata": {},
   "outputs": [
    {
     "data": {
      "text/plain": [
       "(2.3, 1.5, 5.6, 8.9)"
      ]
     },
     "execution_count": 80,
     "metadata": {},
     "output_type": "execute_result"
    }
   ],
   "source": [
    "tup=(2.3,1.5,5.6,8.9)\n",
    "tup"
   ]
  },
  {
   "cell_type": "code",
   "execution_count": 82,
   "id": "1b8a0aa7-37de-436d-b005-9dd335c52677",
   "metadata": {},
   "outputs": [
    {
     "data": {
      "text/plain": [
       "('sam', 'nit', 'sus')"
      ]
     },
     "execution_count": 82,
     "metadata": {},
     "output_type": "execute_result"
    }
   ],
   "source": [
    "tup1=('sam','nit','sus')\n",
    "tup1"
   ]
  },
  {
   "cell_type": "code",
   "execution_count": 83,
   "id": "484275e7-01da-4e81-8816-707c9ea5f896",
   "metadata": {},
   "outputs": [
    {
     "data": {
      "text/plain": [
       "(10, 'sam', (50, 60), (30, 40))"
      ]
     },
     "execution_count": 83,
     "metadata": {},
     "output_type": "execute_result"
    }
   ],
   "source": [
    "tup2=(10,'sam',(50,60),(30,40))\n",
    "tup2"
   ]
  },
  {
   "cell_type": "code",
   "execution_count": 84,
   "id": "35204850-3756-4d52-a784-d0c1f6bdae12",
   "metadata": {},
   "outputs": [
    {
     "data": {
      "text/plain": [
       "(10, 'sam', (50, 60), [2, 3, 4], {5, 6, 7})"
      ]
     },
     "execution_count": 84,
     "metadata": {},
     "output_type": "execute_result"
    }
   ],
   "source": [
    "tup3=(10,'sam',(50,60),[2,3,4],{5,6,7})\n",
    "tup3"
   ]
  },
  {
   "cell_type": "code",
   "execution_count": 86,
   "id": "9a103de7-d8a6-43f4-94ed-7ffc4eac96d9",
   "metadata": {},
   "outputs": [
    {
     "data": {
      "text/plain": [
       "[2, 3, 4]"
      ]
     },
     "execution_count": 86,
     "metadata": {},
     "output_type": "execute_result"
    }
   ],
   "source": [
    "tup3[-2]"
   ]
  },
  {
   "cell_type": "code",
   "execution_count": 87,
   "id": "9595d4be-28a6-4c5b-b58b-caedc33fc448",
   "metadata": {},
   "outputs": [
    {
     "data": {
      "text/plain": [
       "('one', 'two', 'three', 'four', 'five', 'six', 'seven', 'eight', 'nine', 'ten')"
      ]
     },
     "execution_count": 87,
     "metadata": {},
     "output_type": "execute_result"
    }
   ],
   "source": [
    "mytuple=('one','two','three','four','five','six','seven','eight','nine','ten')\n",
    "mytuple"
   ]
  },
  {
   "cell_type": "code",
   "execution_count": 88,
   "id": "8c65543c-94bc-4990-ab17-9dffd3315a02",
   "metadata": {},
   "outputs": [
    {
     "data": {
      "text/plain": [
       "('one', 'two', 'three')"
      ]
     },
     "execution_count": 88,
     "metadata": {},
     "output_type": "execute_result"
    }
   ],
   "source": [
    "mytuple[0:3]"
   ]
  },
  {
   "cell_type": "code",
   "execution_count": 89,
   "id": "2d52e981-0fd6-48f9-818b-0f8b96b6fb41",
   "metadata": {},
   "outputs": [
    {
     "data": {
      "text/plain": [
       "('three', 'four', 'five')"
      ]
     },
     "execution_count": 89,
     "metadata": {},
     "output_type": "execute_result"
    }
   ],
   "source": [
    "mytuple[2:5]"
   ]
  },
  {
   "cell_type": "code",
   "execution_count": 90,
   "id": "67d6071c-9c01-4890-a15a-3e08bfb22224",
   "metadata": {},
   "outputs": [
    {
     "data": {
      "text/plain": [
       "('one', 'two', 'three')"
      ]
     },
     "execution_count": 90,
     "metadata": {},
     "output_type": "execute_result"
    }
   ],
   "source": [
    "mytuple[:3]"
   ]
  },
  {
   "cell_type": "code",
   "execution_count": 91,
   "id": "f45205fc-eb70-4831-a518-fdf83fd47c20",
   "metadata": {},
   "outputs": [
    {
     "data": {
      "text/plain": [
       "('one', 'two')"
      ]
     },
     "execution_count": 91,
     "metadata": {},
     "output_type": "execute_result"
    }
   ],
   "source": [
    "mytuple[:2]"
   ]
  },
  {
   "cell_type": "code",
   "execution_count": 92,
   "id": "f1ba633b-7619-4b81-ae30-824a2a7e750b",
   "metadata": {},
   "outputs": [
    {
     "data": {
      "text/plain": [
       "('eight', 'nine', 'ten')"
      ]
     },
     "execution_count": 92,
     "metadata": {},
     "output_type": "execute_result"
    }
   ],
   "source": [
    "mytuple[-3:]"
   ]
  },
  {
   "cell_type": "code",
   "execution_count": 93,
   "id": "cd85949e-c229-4d49-ad12-341effe56d01",
   "metadata": {},
   "outputs": [
    {
     "data": {
      "text/plain": [
       "('nine', 'ten')"
      ]
     },
     "execution_count": 93,
     "metadata": {},
     "output_type": "execute_result"
    }
   ],
   "source": [
    "mytuple[-2:]"
   ]
  },
  {
   "cell_type": "code",
   "execution_count": 97,
   "id": "253cbb77-cfb9-41b7-b583-870930400de8",
   "metadata": {},
   "outputs": [
    {
     "data": {
      "text/plain": [
       "'ten'"
      ]
     },
     "execution_count": 97,
     "metadata": {},
     "output_type": "execute_result"
    }
   ],
   "source": [
    "mytuple[-1]"
   ]
  },
  {
   "cell_type": "code",
   "execution_count": 98,
   "id": "b116a6a6-b23c-41e7-84e0-d66f13f16eea",
   "metadata": {},
   "outputs": [
    {
     "data": {
      "text/plain": [
       "('one', 'two', 'three', 'four', 'five', 'six', 'seven', 'eight', 'nine', 'ten')"
      ]
     },
     "execution_count": 98,
     "metadata": {},
     "output_type": "execute_result"
    }
   ],
   "source": [
    "mytuple[:]"
   ]
  },
  {
   "cell_type": "code",
   "execution_count": 101,
   "id": "d0e9f54b-c837-4929-89df-830e00b9038c",
   "metadata": {},
   "outputs": [
    {
     "data": {
      "text/plain": [
       "('one', 'two', 'three', 'four', 'five', 'six')"
      ]
     },
     "execution_count": 101,
     "metadata": {},
     "output_type": "execute_result"
    }
   ],
   "source": [
    "mytuple[:-4]"
   ]
  },
  {
   "cell_type": "code",
   "execution_count": 102,
   "id": "a6bb4909-c598-4546-a805-4bcaaf494d59",
   "metadata": {},
   "outputs": [
    {
     "data": {
      "text/plain": [
       "('three', 'four', 'five', 'six')"
      ]
     },
     "execution_count": 102,
     "metadata": {},
     "output_type": "execute_result"
    }
   ],
   "source": [
    "mytuple[2:6]"
   ]
  },
  {
   "cell_type": "code",
   "execution_count": 103,
   "id": "14364067-8f6e-4f42-9735-bb0c9e502488",
   "metadata": {},
   "outputs": [
    {
     "data": {
      "text/plain": [
       "('one', 'two', 'three', 'four')"
      ]
     },
     "execution_count": 103,
     "metadata": {},
     "output_type": "execute_result"
    }
   ],
   "source": [
    "mytuple[:4]"
   ]
  },
  {
   "cell_type": "code",
   "execution_count": 104,
   "id": "0e50ff5f-1234-46e9-b782-aa351f2b3cf6",
   "metadata": {},
   "outputs": [
    {
     "data": {
      "text/plain": [
       "('five', 'six', 'seven', 'eight', 'nine', 'ten')"
      ]
     },
     "execution_count": 104,
     "metadata": {},
     "output_type": "execute_result"
    }
   ],
   "source": [
    "mytuple[4:]"
   ]
  },
  {
   "cell_type": "code",
   "execution_count": 105,
   "id": "39c3f356-d31e-4d89-a387-1893292fd736",
   "metadata": {},
   "outputs": [
    {
     "data": {
      "text/plain": [
       "('seven', 'eight', 'nine')"
      ]
     },
     "execution_count": 105,
     "metadata": {},
     "output_type": "execute_result"
    }
   ],
   "source": [
    "mytuple[-4:-1]"
   ]
  },
  {
   "cell_type": "code",
   "execution_count": 106,
   "id": "144e55dd-fb0f-49c9-b4d9-2f0d19ddfc11",
   "metadata": {},
   "outputs": [
    {
     "data": {
      "text/plain": [
       "('two', 'four', 'six', 'eight')"
      ]
     },
     "execution_count": 106,
     "metadata": {},
     "output_type": "execute_result"
    }
   ],
   "source": [
    "mytuple[1:8:2]"
   ]
  },
  {
   "cell_type": "code",
   "execution_count": 107,
   "id": "3d886486-4ba0-4142-b837-e3b6d7edfcfe",
   "metadata": {},
   "outputs": [
    {
     "data": {
      "text/plain": [
       "('ten', 'nine', 'eight', 'seven', 'six', 'five', 'four', 'three', 'two', 'one')"
      ]
     },
     "execution_count": 107,
     "metadata": {},
     "output_type": "execute_result"
    }
   ],
   "source": [
    "mytuple[::-1]"
   ]
  },
  {
   "cell_type": "code",
   "execution_count": 112,
   "id": "3e6b3b9e-cceb-4648-b1cb-fe2cc278fa3a",
   "metadata": {},
   "outputs": [
    {
     "data": {
      "text/plain": [
       "('two', 'four')"
      ]
     },
     "execution_count": 112,
     "metadata": {},
     "output_type": "execute_result"
    }
   ],
   "source": [
    "mytuple[1:4:2]"
   ]
  },
  {
   "cell_type": "code",
   "execution_count": 49,
   "id": "8dc9fb0c-12c8-4c76-9d91-523a7f8c13e7",
   "metadata": {},
   "outputs": [
    {
     "name": "stdout",
     "output_type": "stream",
     "text": [
      "1\n",
      "2\n",
      "3\n",
      "4\n",
      "5\n",
      "6\n",
      "7\n",
      "8\n"
     ]
    }
   ],
   "source": [
    "for i in t:\n",
    "    print(i)"
   ]
  },
  {
   "cell_type": "code",
   "execution_count": 57,
   "id": "18e5e05c-d9dc-47a2-bfbf-9e5a525f2428",
   "metadata": {},
   "outputs": [
    {
     "name": "stdout",
     "output_type": "stream",
     "text": [
      "(1, 2, 3, 4, 5, 6, 7, 8)\n",
      "(1, 2, 3, 4, 5, 6, 7, 8)\n",
      "(1, 2, 3, 4, 5, 6, 7, 8)\n",
      "(1, 2, 3, 4, 5, 6, 7, 8)\n",
      "(1, 2, 3, 4, 5, 6, 7, 8)\n",
      "(1, 2, 3, 4, 5, 6, 7, 8)\n",
      "(1, 2, 3, 4, 5, 6, 7, 8)\n",
      "(1, 2, 3, 4, 5, 6, 7, 8)\n"
     ]
    }
   ],
   "source": [
    "for i in enumerate(t):\n",
    "     print(t)"
   ]
  },
  {
   "cell_type": "markdown",
   "id": "2302b5a3-3a4f-4d84-a5d6-88434ae7c8c0",
   "metadata": {},
   "source": [
    "#RANGE"
   ]
  },
  {
   "cell_type": "code",
   "execution_count": 58,
   "id": "df441a3c-e3d1-4269-b285-7569d0f49481",
   "metadata": {},
   "outputs": [
    {
     "ename": "TypeError",
     "evalue": "range expected at least 1 argument, got 0",
     "output_type": "error",
     "traceback": [
      "\u001b[1;31m---------------------------------------------------------------------------\u001b[0m",
      "\u001b[1;31mTypeError\u001b[0m                                 Traceback (most recent call last)",
      "Cell \u001b[1;32mIn[58], line 1\u001b[0m\n\u001b[1;32m----> 1\u001b[0m \u001b[38;5;28mrange\u001b[39m()\n",
      "\u001b[1;31mTypeError\u001b[0m: range expected at least 1 argument, got 0"
     ]
    }
   ],
   "source": [
    "range()"
   ]
  },
  {
   "cell_type": "code",
   "execution_count": 59,
   "id": "b2084d08-2fe0-4069-8b1e-b6c5c0b1ea24",
   "metadata": {},
   "outputs": [
    {
     "data": {
      "text/plain": [
       "range(0, 5)"
      ]
     },
     "execution_count": 59,
     "metadata": {},
     "output_type": "execute_result"
    }
   ],
   "source": [
    "range(0,5)"
   ]
  },
  {
   "cell_type": "code",
   "execution_count": 60,
   "id": "2ba576e2-c433-4632-9d2e-17ad04295673",
   "metadata": {},
   "outputs": [
    {
     "data": {
      "text/plain": [
       "[0, 1, 2, 3, 4]"
      ]
     },
     "execution_count": 60,
     "metadata": {},
     "output_type": "execute_result"
    }
   ],
   "source": [
    "list(range(5))"
   ]
  },
  {
   "cell_type": "code",
   "execution_count": 61,
   "id": "d0ca59f3-122c-41b8-8da8-3b5ce9880424",
   "metadata": {},
   "outputs": [
    {
     "data": {
      "text/plain": [
       "range(10, 20)"
      ]
     },
     "execution_count": 61,
     "metadata": {},
     "output_type": "execute_result"
    }
   ],
   "source": [
    "range(10,20)"
   ]
  },
  {
   "cell_type": "code",
   "execution_count": 62,
   "id": "4d679141-458f-4965-970e-7eac7fc317a1",
   "metadata": {},
   "outputs": [
    {
     "data": {
      "text/plain": [
       "[10, 11, 12, 13, 14, 15, 16, 17, 18, 19]"
      ]
     },
     "execution_count": 62,
     "metadata": {},
     "output_type": "execute_result"
    }
   ],
   "source": [
    "list(range(10, 20))"
   ]
  },
  {
   "cell_type": "code",
   "execution_count": null,
   "id": "79835409-59a6-4171-866f-5fbcb0270a3f",
   "metadata": {},
   "outputs": [],
   "source": [
    "range(10,50,5)"
   ]
  },
  {
   "cell_type": "code",
   "execution_count": 63,
   "id": "65f74ced-52cf-4dbd-b78b-45da2cb7280a",
   "metadata": {},
   "outputs": [
    {
     "data": {
      "text/plain": [
       "[10, 15, 20, 25, 30, 35, 40, 45]"
      ]
     },
     "execution_count": 63,
     "metadata": {},
     "output_type": "execute_result"
    }
   ],
   "source": [
    "list(range(10,50,5))"
   ]
  },
  {
   "cell_type": "code",
   "execution_count": null,
   "id": "8a3e65a6-6c8f-4968-975d-48a6b11d5a06",
   "metadata": {},
   "outputs": [],
   "source": []
  },
  {
   "cell_type": "code",
   "execution_count": null,
   "id": "52654e9c-9665-4455-b879-c844c6a928ad",
   "metadata": {},
   "outputs": [],
   "source": []
  },
  {
   "cell_type": "code",
   "execution_count": null,
   "id": "99fcf3b0-a968-4d1c-9f3f-1414e783410a",
   "metadata": {},
   "outputs": [],
   "source": []
  },
  {
   "cell_type": "code",
   "execution_count": null,
   "id": "658c6efd-018f-4d4f-87a3-fc6849a33ac0",
   "metadata": {},
   "outputs": [],
   "source": []
  },
  {
   "cell_type": "code",
   "execution_count": null,
   "id": "52fa5d2d-df0c-4491-a5d8-fbdd44ef67e7",
   "metadata": {},
   "outputs": [],
   "source": []
  },
  {
   "cell_type": "code",
   "execution_count": null,
   "id": "7260a9ac-1d29-42d6-b934-88f294ab25ba",
   "metadata": {},
   "outputs": [],
   "source": []
  },
  {
   "cell_type": "code",
   "execution_count": null,
   "id": "b7f0c2a3-72cc-4593-aaa1-e43383f56024",
   "metadata": {},
   "outputs": [],
   "source": []
  },
  {
   "cell_type": "code",
   "execution_count": null,
   "id": "ca0d70db-3cad-4311-8f6d-e4dbced02488",
   "metadata": {},
   "outputs": [],
   "source": []
  },
  {
   "cell_type": "code",
   "execution_count": null,
   "id": "bc678c95-241a-4753-94c8-1146972e1d56",
   "metadata": {},
   "outputs": [],
   "source": []
  },
  {
   "cell_type": "code",
   "execution_count": null,
   "id": "9ebfb9f8-2188-4384-98c4-8739e996a234",
   "metadata": {},
   "outputs": [],
   "source": []
  },
  {
   "cell_type": "code",
   "execution_count": null,
   "id": "5de70d65-8f28-41aa-8134-b908bca91036",
   "metadata": {},
   "outputs": [],
   "source": []
  },
  {
   "cell_type": "code",
   "execution_count": null,
   "id": "fe55731c-b41a-421f-8748-4e6f8a48e8e2",
   "metadata": {},
   "outputs": [],
   "source": []
  },
  {
   "cell_type": "code",
   "execution_count": null,
   "id": "cef350e9-eed9-47be-b31f-e5e4867e9e7a",
   "metadata": {},
   "outputs": [],
   "source": []
  }
 ],
 "metadata": {
  "kernelspec": {
   "display_name": "Python [conda env:base] *",
   "language": "python",
   "name": "conda-base-py"
  },
  "language_info": {
   "codemirror_mode": {
    "name": "ipython",
    "version": 3
   },
   "file_extension": ".py",
   "mimetype": "text/x-python",
   "name": "python",
   "nbconvert_exporter": "python",
   "pygments_lexer": "ipython3",
   "version": "3.13.5"
  }
 },
 "nbformat": 4,
 "nbformat_minor": 5
}
