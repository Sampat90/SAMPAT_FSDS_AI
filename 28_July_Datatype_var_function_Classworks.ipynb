{
 "cells": [
  {
   "cell_type": "code",
   "execution_count": 1,
   "id": "34835d33-ad5c-4980-8217-6f900870b92b",
   "metadata": {},
   "outputs": [
    {
     "name": "stdout",
     "output_type": "stream",
     "text": [
      "<class 'int'>\n"
     ]
    }
   ],
   "source": [
    "print(type(10))                  # Int"
   ]
  },
  {
   "cell_type": "code",
   "execution_count": 2,
   "id": "3164580e-5b88-48a7-8ea2-72714d1e28a6",
   "metadata": {},
   "outputs": [
    {
     "name": "stdout",
     "output_type": "stream",
     "text": [
      "<class 'float'>\n"
     ]
    }
   ],
   "source": [
    "print(type(3.14))                # Float"
   ]
  },
  {
   "cell_type": "code",
   "execution_count": 3,
   "id": "3fdde246-84f0-4d76-9f20-74c4133e85b2",
   "metadata": {},
   "outputs": [
    {
     "name": "stdout",
     "output_type": "stream",
     "text": [
      "<class 'complex'>\n"
     ]
    }
   ],
   "source": [
    "print(type(1 + 3j))              # Complex"
   ]
  },
  {
   "cell_type": "code",
   "execution_count": 5,
   "id": "b82e23ba-3725-445e-b55d-949a9db60da8",
   "metadata": {},
   "outputs": [
    {
     "name": "stdout",
     "output_type": "stream",
     "text": [
      "<class 'str'>\n"
     ]
    }
   ],
   "source": [
    "print(type('Sampat'))          # String"
   ]
  },
  {
   "cell_type": "code",
   "execution_count": 6,
   "id": "a5e2bb71-7b84-4058-9f4f-c0213a756a66",
   "metadata": {},
   "outputs": [
    {
     "name": "stdout",
     "output_type": "stream",
     "text": [
      "<class 'list'>\n"
     ]
    }
   ],
   "source": [
    "print(type([1, 2, 3]))           # List"
   ]
  },
  {
   "cell_type": "code",
   "execution_count": 8,
   "id": "0e016d58-e147-40c6-982b-d8a98d7fa75d",
   "metadata": {},
   "outputs": [
    {
     "name": "stdout",
     "output_type": "stream",
     "text": [
      "<class 'dict'>\n"
     ]
    }
   ],
   "source": [
    "print(type({'name':'Sampat'})) # Dictionary"
   ]
  },
  {
   "cell_type": "code",
   "execution_count": 9,
   "id": "e54cb662-5e84-4d66-b9c2-e2cbaa9e154f",
   "metadata": {},
   "outputs": [
    {
     "name": "stdout",
     "output_type": "stream",
     "text": [
      "<class 'set'>\n"
     ]
    }
   ],
   "source": [
    "print(type({9.8, 3.14, 2.7}))    # Set"
   ]
  },
  {
   "cell_type": "code",
   "execution_count": 10,
   "id": "eb31c6fc-5fe9-4bd0-a2c0-2e91324c81fd",
   "metadata": {},
   "outputs": [
    {
     "name": "stdout",
     "output_type": "stream",
     "text": [
      "<class 'tuple'>\n"
     ]
    }
   ],
   "source": [
    "print(type((9.8, 3.14, 2.7)))    # Tuple"
   ]
  },
  {
   "cell_type": "code",
   "execution_count": 11,
   "id": "fb03fe66-8f3d-4ca3-87d6-2135a4f573c4",
   "metadata": {},
   "outputs": [
    {
     "name": "stdout",
     "output_type": "stream",
     "text": [
      "<class 'bool'>\n"
     ]
    }
   ],
   "source": [
    "print(type(3 == 3))              # Bool"
   ]
  },
  {
   "cell_type": "code",
   "execution_count": 12,
   "id": "ee514b58-b949-4588-ad2f-067d4cec8409",
   "metadata": {},
   "outputs": [
    {
     "name": "stdout",
     "output_type": "stream",
     "text": [
      "<class 'bool'>\n"
     ]
    }
   ],
   "source": [
    "print(type(3 >= 3))              # Bool"
   ]
  },
  {
   "cell_type": "code",
   "execution_count": 13,
   "id": "05d69f5d-99dd-47ce-9b54-1d15614dfac9",
   "metadata": {},
   "outputs": [
    {
     "name": "stdout",
     "output_type": "stream",
     "text": [
      "Addition:  3\n"
     ]
    }
   ],
   "source": [
    "print('Addition: ', 1 + 2)"
   ]
  },
  {
   "cell_type": "code",
   "execution_count": 14,
   "id": "8b37e71b-99a7-47c4-b9ca-99cbfc06d89b",
   "metadata": {},
   "outputs": [
    {
     "name": "stdout",
     "output_type": "stream",
     "text": [
      "Subtraction:  1\n"
     ]
    }
   ],
   "source": [
    "print('Subtraction: ', 2 - 1)"
   ]
  },
  {
   "cell_type": "code",
   "execution_count": 15,
   "id": "fb3bdacc-2006-4f9f-9215-b412298b1429",
   "metadata": {},
   "outputs": [
    {
     "name": "stdout",
     "output_type": "stream",
     "text": [
      "Multiplication:  6\n"
     ]
    }
   ],
   "source": [
    "print('Multiplication: ', 2 * 3)"
   ]
  },
  {
   "cell_type": "code",
   "execution_count": 16,
   "id": "8276608b-b244-44fb-b757-ce9331327460",
   "metadata": {},
   "outputs": [
    {
     "name": "stdout",
     "output_type": "stream",
     "text": [
      "Division:  2.0\n"
     ]
    }
   ],
   "source": [
    "print ('Division: ', 4 / 2) "
   ]
  },
  {
   "cell_type": "code",
   "execution_count": 17,
   "id": "7894c7b0-fd56-4f2d-b42e-a4859a99f753",
   "metadata": {},
   "outputs": [
    {
     "name": "stdout",
     "output_type": "stream",
     "text": [
      "Division:  3.0\n"
     ]
    }
   ],
   "source": [
    "print('Division: ', 6 / 2)"
   ]
  },
  {
   "cell_type": "code",
   "execution_count": 18,
   "id": "3c71e84e-02d9-449a-bd78-8a82aff3ab36",
   "metadata": {},
   "outputs": [
    {
     "name": "stdout",
     "output_type": "stream",
     "text": [
      "Division:  3.5\n"
     ]
    }
   ],
   "source": [
    "print('Division: ', 7 / 2)"
   ]
  },
  {
   "cell_type": "code",
   "execution_count": 19,
   "id": "784e3d49-04e5-4266-a8dc-23ee92032213",
   "metadata": {},
   "outputs": [
    {
     "name": "stdout",
     "output_type": "stream",
     "text": [
      "Division without the remainder:  3\n"
     ]
    }
   ],
   "source": [
    "print('Division without the remainder: ', 7 // 2)"
   ]
  },
  {
   "cell_type": "code",
   "execution_count": 20,
   "id": "65cb4952-e0e6-4c89-a4b0-7dbc73568ded",
   "metadata": {},
   "outputs": [
    {
     "name": "stdout",
     "output_type": "stream",
     "text": [
      "Modulus:  1\n"
     ]
    }
   ],
   "source": [
    "print('Modulus: ', 3 % 2) "
   ]
  },
  {
   "cell_type": "code",
   "execution_count": 21,
   "id": "866811d0-3c28-48a3-97e7-52b4bf82d545",
   "metadata": {},
   "outputs": [
    {
     "name": "stdout",
     "output_type": "stream",
     "text": [
      "Division without the remainder:  2\n"
     ]
    }
   ],
   "source": [
    "print ('Division without the remainder: ', 7 // 3)"
   ]
  },
  {
   "cell_type": "code",
   "execution_count": 22,
   "id": "370bb193-5217-45df-b529-d44880cfcfc2",
   "metadata": {},
   "outputs": [
    {
     "name": "stdout",
     "output_type": "stream",
     "text": [
      "Exponential:  9\n"
     ]
    }
   ],
   "source": [
    "print('Exponential: ', 3 ** 2)  "
   ]
  },
  {
   "cell_type": "code",
   "execution_count": 23,
   "id": "fe547902-d670-4c17-aded-a189591a5f75",
   "metadata": {},
   "outputs": [
    {
     "name": "stdout",
     "output_type": "stream",
     "text": [
      "Floating Number,PI 3.14\n"
     ]
    }
   ],
   "source": [
    "print('Floating Number,PI', 3.14)"
   ]
  },
  {
   "cell_type": "code",
   "execution_count": 24,
   "id": "74735041-e736-4084-9ed5-2543a2ed063b",
   "metadata": {},
   "outputs": [
    {
     "name": "stdout",
     "output_type": "stream",
     "text": [
      "Floating Number, gravity 9.81\n"
     ]
    }
   ],
   "source": [
    "print('Floating Number, gravity', 9.81)"
   ]
  },
  {
   "cell_type": "code",
   "execution_count": 25,
   "id": "048552aa-d8fc-4ca0-821a-1507d49bb0af",
   "metadata": {},
   "outputs": [
    {
     "name": "stdout",
     "output_type": "stream",
     "text": [
      "Complex number:  (1+1j)\n"
     ]
    }
   ],
   "source": [
    "print('Complex number: ', 1 + 1j)"
   ]
  },
  {
   "cell_type": "code",
   "execution_count": 26,
   "id": "fbeef56c-6901-4515-99f6-6a8631fa54bf",
   "metadata": {},
   "outputs": [
    {
     "name": "stdout",
     "output_type": "stream",
     "text": [
      "Multiplying complex number:  (2+0j)\n"
     ]
    }
   ],
   "source": [
    "print('Multiplying complex number: ',(1 + 1j) * (1-1j))"
   ]
  },
  {
   "cell_type": "code",
   "execution_count": 31,
   "id": "50ca9265-272d-41b1-914c-28a64fe5faed",
   "metadata": {},
   "outputs": [
    {
     "name": "stdout",
     "output_type": "stream",
     "text": [
      "a + b =  5\n",
      "a - b =  1\n",
      "a * b =  6\n",
      "a / b =  1.5\n",
      "a % b =  1\n",
      "a // b =  1\n",
      "a ** b =  9\n"
     ]
    }
   ],
   "source": [
    "a = 3 # a is a variable name and 3 is an integer data type\n",
    "b = 2 # b is a variable name and 3 is an integer data type\n",
    "\n",
    "total = a + b\n",
    "print('a + b = ', total)\n",
    "\n",
    "diff = a - b\n",
    "print('a - b = ', diff)\n",
    "\n",
    "product = a * b\n",
    "print('a * b = ', product)\n",
    "\n",
    "division = a / b\n",
    "print('a / b = ', division)\n",
    "\n",
    "remainder = a % b\n",
    "print('a % b = ', remainder)\n",
    "\n",
    "floor_division = a // b\n",
    "print('a // b = ', floor_division)\n",
    "\n",
    "exponential = a ** b\n",
    "print('a ** b = ', exponential)"
   ]
  },
  {
   "cell_type": "code",
   "execution_count": 32,
   "id": "214250f2-69f4-4f38-96e1-f294b11358ce",
   "metadata": {},
   "outputs": [
    {
     "name": "stdout",
     "output_type": "stream",
     "text": [
      "total:  7\n",
      "difference:  1\n",
      "product:  12\n",
      "division:  1.0\n",
      "remainder:  1\n"
     ]
    }
   ],
   "source": [
    "# Declaring values and organizing them together\n",
    "num_one = 3\n",
    "num_two = 4\n",
    "\n",
    "# Arithmetic operations\n",
    "total = num_one + num_two\n",
    "diff = num_two - num_one\n",
    "product = num_one * num_two\n",
    "div = num_two / num_two\n",
    "remainder = num_two % num_one\n",
    "\n",
    "# Printing values with label\n",
    "print('total: ', total)\n",
    "print('difference: ', diff)\n",
    "print('product: ', product)\n",
    "print('division: ', div)\n",
    "print('remainder: ', remainder)"
   ]
  },
  {
   "cell_type": "code",
   "execution_count": 33,
   "id": "78f32ad8-462c-4b95-a765-dc1fea864d62",
   "metadata": {},
   "outputs": [
    {
     "name": "stdout",
     "output_type": "stream",
     "text": [
      "Area of a circle: 314.0\n"
     ]
    }
   ],
   "source": [
    "# Calculating area of a circle\n",
    "radius = 10                                 # radius of a circle\n",
    "area_of_circle = 3.14 * radius ** 2         # two * sign means exponent or power\n",
    "print('Area of a circle:', area_of_circle)"
   ]
  },
  {
   "cell_type": "code",
   "execution_count": 34,
   "id": "d8ace31c-fbde-4081-909b-eaff07de2814",
   "metadata": {},
   "outputs": [
    {
     "name": "stdout",
     "output_type": "stream",
     "text": [
      "Area of rectangle: 200\n"
     ]
    }
   ],
   "source": [
    "# Calculating area of a rectangle\n",
    "length = 10\n",
    "width = 20\n",
    "area_of_rectangle = length * width\n",
    "print('Area of rectangle:', area_of_rectangle)"
   ]
  },
  {
   "cell_type": "code",
   "execution_count": 35,
   "id": "9552cc46-61c2-4f46-a13b-acbaaeadabea",
   "metadata": {},
   "outputs": [
    {
     "name": "stdout",
     "output_type": "stream",
     "text": [
      "735.75 N\n"
     ]
    }
   ],
   "source": [
    "# Calculating a weight of an object\n",
    "mass = 75\n",
    "gravity = 9.81\n",
    "weight = mass * gravity\n",
    "print(weight, 'N')"
   ]
  },
  {
   "cell_type": "code",
   "execution_count": 36,
   "id": "3439c701-eb8f-471e-ad52-3013bb656505",
   "metadata": {},
   "outputs": [
    {
     "name": "stdout",
     "output_type": "stream",
     "text": [
      "True\n",
      "True\n",
      "False\n",
      "True\n",
      "True\n",
      "False\n",
      "True\n",
      "False\n",
      "True\n",
      "True\n",
      "False\n",
      "True\n",
      "True\n",
      "False\n"
     ]
    }
   ],
   "source": [
    "print(3 > 2)     # True, because 3 is greater than 2\n",
    "print(3 >= 2)    # True, because 3 is greater than 2\n",
    "print(3 < 2)     # False,  because 3 is greater than 2\n",
    "print(2 < 3)     # True, because 2 is less than 3\n",
    "print(2 <= 3)    # True, because 2 is less than 3\n",
    "print(3 == 2)    # False, because 3 is not equal to 2\n",
    "print(3 != 2)    # True, because 3 is not equal to 2\n",
    "print(len('mango') == len('avocado'))  # False\n",
    "print(len('mango') != len('avocado'))  # True\n",
    "print(len('mango') < len('avocado'))   # True\n",
    "print(len('milk') != len('meat'))      # False\n",
    "print(len('milk') == len('meat'))      # True\n",
    "print(len('tomato') == len('potato'))  # True\n",
    "print(len('python') > len('dragon'))   # False"
   ]
  },
  {
   "cell_type": "code",
   "execution_count": 37,
   "id": "9f2586b9-0f0d-450d-84d6-547ed75b8ed8",
   "metadata": {},
   "outputs": [
    {
     "name": "stdout",
     "output_type": "stream",
     "text": [
      "True == True:  True\n",
      "True == False:  False\n",
      "False == False: True\n",
      "True and True:  True\n",
      "True or False: True\n"
     ]
    }
   ],
   "source": [
    "# Boolean comparison\n",
    "print('True == True: ', True == True)\n",
    "print('True == False: ', True == False)\n",
    "print('False == False:', False == False)\n",
    "print('True and True: ', True and True)\n",
    "print('True or False:', True or False)"
   ]
  },
  {
   "cell_type": "code",
   "execution_count": 38,
   "id": "37ebbfec-19ff-4f29-ac0c-f04a6fcc1237",
   "metadata": {},
   "outputs": [
    {
     "name": "stdout",
     "output_type": "stream",
     "text": [
      "1 is 1 True\n",
      "1 is not 2 True\n",
      "A in Asabeneh True\n",
      "B in Asabeneh False\n",
      "True\n",
      "a in an: True\n",
      "4 is 2 ** 2: True\n"
     ]
    },
    {
     "name": "stderr",
     "output_type": "stream",
     "text": [
      "<>:2: SyntaxWarning: \"is\" with 'int' literal. Did you mean \"==\"?\n",
      "<>:3: SyntaxWarning: \"is not\" with 'int' literal. Did you mean \"!=\"?\n",
      "<>:8: SyntaxWarning: \"is\" with 'int' literal. Did you mean \"==\"?\n",
      "C:\\Users\\dassa\\AppData\\Local\\Temp\\ipykernel_12952\\4207222253.py:2: SyntaxWarning: \"is\" with 'int' literal. Did you mean \"==\"?\n",
      "  print('1 is 1', 1 is 1)                   # True - because the data values are the same\n",
      "C:\\Users\\dassa\\AppData\\Local\\Temp\\ipykernel_12952\\4207222253.py:3: SyntaxWarning: \"is not\" with 'int' literal. Did you mean \"!=\"?\n",
      "  print('1 is not 2', 1 is not 2)           # True - because 1 is not 2\n",
      "C:\\Users\\dassa\\AppData\\Local\\Temp\\ipykernel_12952\\4207222253.py:8: SyntaxWarning: \"is\" with 'int' literal. Did you mean \"==\"?\n",
      "  print('4 is 2 ** 2:', 4 is 2 ** 2)   # True\n"
     ]
    }
   ],
   "source": [
    "# Another way comparison \n",
    "print('1 is 1', 1 is 1)                   # True - because the data values are the same\n",
    "print('1 is not 2', 1 is not 2)           # True - because 1 is not 2\n",
    "print('A in Asabeneh', 'A' in 'Asabeneh') # True - A found in the string\n",
    "print('B in Asabeneh', 'B' in 'Asabeneh') # False -there is no uppercase B\n",
    "print('coding' in 'coding for all') # True - because coding for all has the word coding\n",
    "print('a in an:', 'a' in 'an')      # True\n",
    "print('4 is 2 ** 2:', 4 is 2 ** 2)   # True"
   ]
  },
  {
   "cell_type": "code",
   "execution_count": 39,
   "id": "c0037081-91f1-46da-b3c4-bee2a486ce74",
   "metadata": {},
   "outputs": [
    {
     "name": "stdout",
     "output_type": "stream",
     "text": [
      "True\n",
      "False\n",
      "False\n",
      "True\n",
      "True\n",
      "False\n",
      "False\n",
      "False\n",
      "True\n",
      "True\n",
      "False\n"
     ]
    }
   ],
   "source": [
    "print(3 > 2 and 4 > 3) # True - because both statements are true\n",
    "print(3 > 2 and 4 < 3) # False - because the second statement is false\n",
    "print(3 < 2 and 4 < 3) # False - because both statements are false\n",
    "print(3 > 2 or 4 > 3)  # True - because both statements are true\n",
    "print(3 > 2 or 4 < 3)  # True - because one of the statement is true\n",
    "print(3 < 2 or 4 < 3)  # False - because both statements are false\n",
    "print(not 3 > 2)     # False - because 3 > 2 is true, then not True gives False\n",
    "print(not True)      # False - Negation, the not operator turns true to false\n",
    "print(not False)     # True\n",
    "print(not not True)  # True\n",
    "print(not not False) # False"
   ]
  },
  {
   "cell_type": "code",
   "execution_count": 40,
   "id": "6c955545-4fd3-4a97-91a4-71cafc1f34d8",
   "metadata": {},
   "outputs": [
    {
     "data": {
      "text/plain": [
       "112"
      ]
     },
     "execution_count": 40,
     "metadata": {},
     "output_type": "execute_result"
    }
   ],
   "source": [
    "int(112.5)"
   ]
  },
  {
   "cell_type": "code",
   "execution_count": 41,
   "id": "e2f17d06-d79c-40a9-98f4-08f8de25d8c9",
   "metadata": {},
   "outputs": [
    {
     "data": {
      "text/plain": [
       "1"
      ]
     },
     "execution_count": 41,
     "metadata": {},
     "output_type": "execute_result"
    }
   ],
   "source": [
    "int(True)"
   ]
  },
  {
   "cell_type": "code",
   "execution_count": 42,
   "id": "d8cc5e71-04af-4f54-95d1-5b4931b63b3c",
   "metadata": {},
   "outputs": [
    {
     "data": {
      "text/plain": [
       "0"
      ]
     },
     "execution_count": 42,
     "metadata": {},
     "output_type": "execute_result"
    }
   ],
   "source": [
    "int(False)"
   ]
  },
  {
   "cell_type": "code",
   "execution_count": 43,
   "id": "be249c6d-ab80-426d-a0bd-df336fb2a0d2",
   "metadata": {},
   "outputs": [
    {
     "data": {
      "text/plain": [
       "'1'"
      ]
     },
     "execution_count": 43,
     "metadata": {},
     "output_type": "execute_result"
    }
   ],
   "source": [
    "str(1)"
   ]
  },
  {
   "cell_type": "code",
   "execution_count": 44,
   "id": "3779f72d-0220-4592-9195-8c8ba2559ee6",
   "metadata": {},
   "outputs": [
    {
     "data": {
      "text/plain": [
       "1"
      ]
     },
     "execution_count": 44,
     "metadata": {},
     "output_type": "execute_result"
    }
   ],
   "source": [
    "int(\"1\")"
   ]
  },
  {
   "cell_type": "code",
   "execution_count": 45,
   "id": "12381ea7-056d-43f3-b531-e62a1cedee2b",
   "metadata": {},
   "outputs": [
    {
     "data": {
      "text/plain": [
       "1.0"
      ]
     },
     "execution_count": 45,
     "metadata": {},
     "output_type": "execute_result"
    }
   ],
   "source": [
    "float(\"1\")"
   ]
  },
  {
   "cell_type": "code",
   "execution_count": null,
   "id": "2f028cb7-2f66-45c8-b7e6-0139a36dd70a",
   "metadata": {},
   "outputs": [],
   "source": [
    "#one data type to another data type is called Casting"
   ]
  },
  {
   "cell_type": "code",
   "execution_count": 47,
   "id": "6496324f-3f01-4406-ae69-4ef416fca7ab",
   "metadata": {},
   "outputs": [
    {
     "data": {
      "text/plain": [
       "float"
      ]
     },
     "execution_count": 47,
     "metadata": {},
     "output_type": "execute_result"
    }
   ],
   "source": [
    "import numpy as np\n",
    "type(np.nan)"
   ]
  },
  {
   "cell_type": "code",
   "execution_count": null,
   "id": "d0ce9372-af18-4ed6-8ac3-6e3340bb1e90",
   "metadata": {},
   "outputs": [],
   "source": [
    "#Python Dynamic typed language -- Python variables can be assigned to different types and changes types at will."
   ]
  },
  {
   "cell_type": "code",
   "execution_count": 48,
   "id": "67e7cb81-8912-4fba-8a66-2f799e638a09",
   "metadata": {},
   "outputs": [
    {
     "name": "stdout",
     "output_type": "stream",
     "text": [
      "2\n"
     ]
    }
   ],
   "source": [
    "print(True*2)"
   ]
  },
  {
   "cell_type": "code",
   "execution_count": 49,
   "id": "95f0483a-2d7f-4610-b944-a999d5b31f76",
   "metadata": {},
   "outputs": [
    {
     "name": "stdout",
     "output_type": "stream",
     "text": [
      "0\n"
     ]
    }
   ],
   "source": [
    "print(False*2)"
   ]
  },
  {
   "cell_type": "code",
   "execution_count": 50,
   "id": "1b6bd6f8-5436-4716-b7ba-9109a7f43d58",
   "metadata": {},
   "outputs": [
    {
     "name": "stdout",
     "output_type": "stream",
     "text": [
      "7\n"
     ]
    }
   ],
   "source": [
    "poll_data=7\n",
    "print(poll_data)"
   ]
  },
  {
   "cell_type": "code",
   "execution_count": 4,
   "id": "2623afa3-7c7b-480a-948e-b2ee1284735e",
   "metadata": {},
   "outputs": [
    {
     "data": {
      "text/plain": [
       "(1+2j)"
      ]
     },
     "execution_count": 4,
     "metadata": {},
     "output_type": "execute_result"
    }
   ],
   "source": [
    "c=1+2j\n",
    "c"
   ]
  },
  {
   "cell_type": "code",
   "execution_count": 5,
   "id": "15587c56-8410-49b2-8dc4-b37a6d5481f4",
   "metadata": {},
   "outputs": [
    {
     "data": {
      "text/plain": [
       "complex"
      ]
     },
     "execution_count": 5,
     "metadata": {},
     "output_type": "execute_result"
    }
   ],
   "source": [
    "type(c)"
   ]
  },
  {
   "cell_type": "code",
   "execution_count": 6,
   "id": "04c44c52-0b7a-4a91-8051-9a274434ba1a",
   "metadata": {},
   "outputs": [
    {
     "data": {
      "text/plain": [
       "1.0"
      ]
     },
     "execution_count": 6,
     "metadata": {},
     "output_type": "execute_result"
    }
   ],
   "source": [
    "c.real"
   ]
  },
  {
   "cell_type": "code",
   "execution_count": 8,
   "id": "ff37d9a5-7b75-4041-8459-77ba08005dd0",
   "metadata": {},
   "outputs": [
    {
     "data": {
      "text/plain": [
       "2.0"
      ]
     },
     "execution_count": 8,
     "metadata": {},
     "output_type": "execute_result"
    }
   ],
   "source": [
    "c.imag"
   ]
  },
  {
   "cell_type": "code",
   "execution_count": 13,
   "id": "68c9bec7-863a-42ed-8769-a6d67a47e0ae",
   "metadata": {},
   "outputs": [],
   "source": [
    "c=10+20j\n",
    "d=30+40j"
   ]
  },
  {
   "cell_type": "code",
   "execution_count": 14,
   "id": "bb36e876-833a-493b-a2d3-ba40b7c01f5b",
   "metadata": {},
   "outputs": [
    {
     "data": {
      "text/plain": [
       "(40+60j)"
      ]
     },
     "execution_count": 14,
     "metadata": {},
     "output_type": "execute_result"
    }
   ],
   "source": [
    "e=c+d\n",
    "e"
   ]
  },
  {
   "cell_type": "code",
   "execution_count": 17,
   "id": "31489793-59b2-4bd9-b29a-17cd62cd39dc",
   "metadata": {},
   "outputs": [
    {
     "data": {
      "text/plain": [
       "'nareshit'"
      ]
     },
     "execution_count": 17,
     "metadata": {},
     "output_type": "execute_result"
    }
   ],
   "source": [
    "s = 'nareshit'\n",
    "s"
   ]
  },
  {
   "cell_type": "code",
   "execution_count": 19,
   "id": "0cb047f0-7d91-4dfe-a876-be8e44ce7fab",
   "metadata": {},
   "outputs": [
    {
     "data": {
      "text/plain": [
       "'a'"
      ]
     },
     "execution_count": 19,
     "metadata": {},
     "output_type": "execute_result"
    }
   ],
   "source": [
    "s[1]"
   ]
  },
  {
   "cell_type": "code",
   "execution_count": 28,
   "id": "18e0a270-4791-470c-810c-f7f33c8a6a46",
   "metadata": {},
   "outputs": [],
   "source": [
    "s1='technology'\n",
    "s2=' guidance of prakash senapati'"
   ]
  },
  {
   "cell_type": "code",
   "execution_count": 24,
   "id": "ebed7d6b-0327-48cb-9bbf-fbc7d08133bb",
   "metadata": {},
   "outputs": [
    {
     "name": "stdout",
     "output_type": "stream",
     "text": [
      "nareshit\n",
      "technology\n",
      "guidance of prakash senapati\n"
     ]
    }
   ],
   "source": [
    "print(s)\n",
    "print(s1)\n",
    "print(s2)"
   ]
  },
  {
   "cell_type": "code",
   "execution_count": 29,
   "id": "74cb4e56-82a4-4080-8f0c-ada280a74a4a",
   "metadata": {},
   "outputs": [
    {
     "data": {
      "text/plain": [
       "'nareshittechnology guidance of prakash senapati'"
      ]
     },
     "execution_count": 29,
     "metadata": {},
     "output_type": "execute_result"
    }
   ],
   "source": [
    "s + s1 +  s2"
   ]
  },
  {
   "cell_type": "code",
   "execution_count": 30,
   "id": "5c99d3d4-b998-4eae-8f06-63265d191e5b",
   "metadata": {},
   "outputs": [
    {
     "name": "stdout",
     "output_type": "stream",
     "text": [
      "10 2.4 nit (1+2j)\n"
     ]
    }
   ],
   "source": [
    "print(10,2.4,'nit',1+2j)"
   ]
  },
  {
   "cell_type": "code",
   "execution_count": 31,
   "id": "c6f3c3a4-184f-437c-b2f0-18a5acf500fc",
   "metadata": {},
   "outputs": [
    {
     "data": {
      "text/plain": [
       "50"
      ]
     },
     "execution_count": 31,
     "metadata": {},
     "output_type": "execute_result"
    }
   ],
   "source": [
    "a=30\n",
    "b=20\n",
    "c=a+b\n",
    "c"
   ]
  },
  {
   "cell_type": "code",
   "execution_count": 33,
   "id": "d875d8e6-abe6-4d77-a84d-1868f87a6cf5",
   "metadata": {},
   "outputs": [
    {
     "name": "stdout",
     "output_type": "stream",
     "text": [
      "The addition of 30 and 20 is 50\n"
     ]
    }
   ],
   "source": [
    "print('The addition of',a,'and',b ,'is', c)"
   ]
  },
  {
   "cell_type": "code",
   "execution_count": 39,
   "id": "46b75cef-9cf1-4ee8-9993-cfb6384dc5d9",
   "metadata": {},
   "outputs": [
    {
     "name": "stdout",
     "output_type": "stream",
     "text": [
      "The addition of 30,20 and 60 is= 110\n"
     ]
    }
   ],
   "source": [
    "a=30\n",
    "b=20\n",
    "d=60\n",
    "c=a+b+d\n",
    "print('The addition of {},{} and {} is= {}'.format(a,b,d,c))"
   ]
  },
  {
   "cell_type": "code",
   "execution_count": 42,
   "id": "c8df9a32-e1e8-48aa-838c-6ce7de10c747",
   "metadata": {},
   "outputs": [
    {
     "name": "stdout",
     "output_type": "stream",
     "text": [
      "hello good morning\n"
     ]
    }
   ],
   "source": [
    "print('hello', end=' ')\n",
    "print('good morning')"
   ]
  },
  {
   "cell_type": "code",
   "execution_count": 46,
   "id": "46e26c5b-d7b2-4bf2-b11a-e1e3b32f00e9",
   "metadata": {},
   "outputs": [
    {
     "name": "stdout",
     "output_type": "stream",
     "text": [
      "hello & how are you\n"
     ]
    }
   ],
   "source": [
    "print('hello','how are you' ,sep=' & ')"
   ]
  },
  {
   "cell_type": "code",
   "execution_count": null,
   "id": "da1113c7-0c91-4aa1-9496-866d03929b0c",
   "metadata": {},
   "outputs": [],
   "source": []
  },
  {
   "cell_type": "code",
   "execution_count": null,
   "id": "9b572747-f69f-4519-a18d-43ef98be6571",
   "metadata": {},
   "outputs": [],
   "source": []
  },
  {
   "cell_type": "code",
   "execution_count": null,
   "id": "ac7b9eff-24e0-4fbc-98cf-7ef2228a4117",
   "metadata": {},
   "outputs": [],
   "source": []
  },
  {
   "cell_type": "code",
   "execution_count": null,
   "id": "2a045302-4f79-4848-b773-897516ba1cd5",
   "metadata": {},
   "outputs": [],
   "source": []
  },
  {
   "cell_type": "code",
   "execution_count": null,
   "id": "87f7a5e0-bd65-4621-ab68-59543286f3e0",
   "metadata": {},
   "outputs": [],
   "source": []
  },
  {
   "cell_type": "code",
   "execution_count": null,
   "id": "afb370da-e672-41de-8ea5-81aa0b2df9ca",
   "metadata": {},
   "outputs": [],
   "source": []
  },
  {
   "cell_type": "code",
   "execution_count": null,
   "id": "25abe7c8-a359-4786-92a4-867b39160633",
   "metadata": {},
   "outputs": [],
   "source": []
  },
  {
   "cell_type": "code",
   "execution_count": null,
   "id": "85983e52-9615-4687-8304-966166bf4c94",
   "metadata": {},
   "outputs": [],
   "source": []
  },
  {
   "cell_type": "code",
   "execution_count": null,
   "id": "d17a41f7-3e2d-44f7-98a0-205b6f054af2",
   "metadata": {},
   "outputs": [],
   "source": []
  },
  {
   "cell_type": "code",
   "execution_count": null,
   "id": "4a9300a3-769b-4609-b191-22c79c844e11",
   "metadata": {},
   "outputs": [],
   "source": []
  },
  {
   "cell_type": "code",
   "execution_count": null,
   "id": "47616127-4aa5-4ec6-a980-33aaab260288",
   "metadata": {},
   "outputs": [],
   "source": []
  },
  {
   "cell_type": "code",
   "execution_count": null,
   "id": "463f1d53-7a4c-4cc3-b846-77f35f6c2f21",
   "metadata": {},
   "outputs": [],
   "source": []
  }
 ],
 "metadata": {
  "kernelspec": {
   "display_name": "Python [conda env:base] *",
   "language": "python",
   "name": "conda-base-py"
  },
  "language_info": {
   "codemirror_mode": {
    "name": "ipython",
    "version": 3
   },
   "file_extension": ".py",
   "mimetype": "text/x-python",
   "name": "python",
   "nbconvert_exporter": "python",
   "pygments_lexer": "ipython3",
   "version": "3.13.5"
  }
 },
 "nbformat": 4,
 "nbformat_minor": 5
}
